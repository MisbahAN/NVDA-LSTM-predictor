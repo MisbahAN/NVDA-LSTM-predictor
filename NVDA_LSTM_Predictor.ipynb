{
 "cells": [
  {
   "cell_type": "markdown",
   "id": "70c331b1",
   "metadata": {},
   "source": [
    "# Import Libraries"
   ]
  },
  {
   "cell_type": "code",
   "execution_count": 103,
   "id": "d3d01950",
   "metadata": {},
   "outputs": [],
   "source": [
    "import numpy as np\n",
    "import pandas as pd\n",
    "from dotenv import load_dotenv\n",
    "from alpaca.data.historical import StockHistoricalDataClient\n",
    "from alpaca.data.requests import StockBarsRequest\n",
    "from alpaca.data.timeframe import TimeFrame\n",
    "from sklearn.preprocessing import StandardScaler\n",
    "from sklearn.model_selection import train_test_split\n",
    "from tensorflow.keras.models import Sequential\n",
    "from tensorflow.keras.layers import LSTM, Dense, Dropout\n",
    "from tensorflow.keras.optimizers import Adam\n",
    "from tensorflow.keras.regularizers import l2\n",
    "import plotly.graph_objects as go\n",
    "from plotly.subplots import make_subplots"
   ]
  },
  {
   "cell_type": "markdown",
   "id": "848209ea",
   "metadata": {},
   "source": [
    "# Load Alpaca Keys"
   ]
  },
  {
   "cell_type": "code",
   "execution_count": 104,
   "id": "e0908027",
   "metadata": {},
   "outputs": [],
   "source": [
    "load_dotenv()\n",
    "ALPACA_API_KEY = os.getenv(\"APCA_API_KEY_ID\")\n",
    "ALPACA_SECRET_KEY = os.getenv(\"APCA_API_SECRET_KEY\")\n",
    "client = StockHistoricalDataClient(ALPACA_API_KEY, ALPACA_SECRET_KEY)"
   ]
  },
  {
   "cell_type": "markdown",
   "id": "b5da252a",
   "metadata": {},
   "source": [
    "# get_stock_data() — Fetch from Alpaca API\n",
    "# adjust_for_stock_split() — Normalize pre-split prices"
   ]
  },
  {
   "cell_type": "code",
   "execution_count": 105,
   "id": "e10f69e8",
   "metadata": {},
   "outputs": [
    {
     "name": "stdout",
     "output_type": "stream",
     "text": [
      "Adjusting 127 data points for 10:1 stock split on 2024-06-10\n"
     ]
    }
   ],
   "source": [
    "def get_stock_data(symbol: str, start_date: str, end_date: str):\n",
    "    \"\"\"\n",
    "    Fetch weekly stock OHLCV data for a symbol from Alpaca.\n",
    "    \"\"\"\n",
    "    request_params = StockBarsRequest(\n",
    "        symbol_or_symbols=symbol,\n",
    "        timeframe=TimeFrame.Week,\n",
    "        start=pd.to_datetime(start_date),\n",
    "        end=pd.to_datetime(end_date)\n",
    "    )\n",
    "    \n",
    "    bars = client.get_stock_bars(request_params).df\n",
    "    df = bars[bars.index.get_level_values(0) == symbol].copy()\n",
    "    df.index = df.index.droplevel(0)\n",
    "    df.index = pd.to_datetime(df.index)\n",
    "    \n",
    "    return df\n",
    "\n",
    "\n",
    "\n",
    "def adjust_for_stock_split(df, split_date, split_ratio):\n",
    "    \"\"\"\n",
    "    Adjust historical stock OHLCV data to account for stock splits.\n",
    "    \n",
    "    Args:\n",
    "        df: DataFrame with OHLCV data\n",
    "        split_date: Date of the stock split (YYYY-MM-DD format or datetime)\n",
    "        split_ratio: e.g., 10 for a 10:1 split\n",
    "    \"\"\"\n",
    "    df_adjusted = df.copy()\n",
    "    \n",
    "    if isinstance(split_date, str):\n",
    "        split_date = pd.to_datetime(split_date).tz_localize('UTC')\n",
    "    \n",
    "    pre_split_mask = df_adjusted.index < split_date\n",
    "    \n",
    "    if pre_split_mask.any():\n",
    "        print(f\"Adjusting {pre_split_mask.sum()} data points for {split_ratio}:1 stock split on {split_date.date()}\")\n",
    "\n",
    "        price_columns = ['open', 'high', 'low', 'close']\n",
    "        for col in price_columns:\n",
    "            if col in df_adjusted.columns:\n",
    "                df_adjusted.loc[pre_split_mask, col] = df_adjusted.loc[pre_split_mask, col] / split_ratio\n",
    "        \n",
    "        if 'volume' in df_adjusted.columns:\n",
    "            df_adjusted.loc[pre_split_mask, 'volume'] = df_adjusted.loc[pre_split_mask, 'volume'] * split_ratio\n",
    "    \n",
    "    return df_adjusted\n",
    "\n",
    "\n",
    "\n",
    "df = get_stock_data(\"NVDA\", \"2022-01-01\", \"2025-07-21\")\n",
    "df = adjust_for_stock_split(df, split_date=\"2024-06-10\", split_ratio=10)"
   ]
  },
  {
   "cell_type": "markdown",
   "id": "27643991",
   "metadata": {},
   "source": [
    "# Add Technical Indicators (MACD, RSI, SMAs)"
   ]
  },
  {
   "cell_type": "code",
   "execution_count": 106,
   "id": "a97969ad",
   "metadata": {},
   "outputs": [],
   "source": [
    "import ta\n",
    "\n",
    "# Drop missing values just in case\n",
    "df = df.dropna()\n",
    "\n",
    "# Add MACD and Signal Line\n",
    "df['MACD'] = ta.trend.macd(df['close'])\n",
    "df['MACD_Signal'] = ta.trend.macd_signal(df['close'])\n",
    "\n",
    "# Add RSI\n",
    "df['RSI'] = ta.momentum.rsi(df['close'])\n",
    "\n",
    "# Add Simple Moving Averages\n",
    "df['SMA5'] = ta.trend.sma_indicator(df['close'], window=5)\n",
    "df['SMA20'] = ta.trend.sma_indicator(df['close'], window=20)\n",
    "df['SMA50'] = ta.trend.sma_indicator(df['close'], window=50)\n",
    "\n",
    "# Re-drop in case any indicators introduced NaNs at beginning\n",
    "df = df.dropna().copy()"
   ]
  },
  {
   "cell_type": "markdown",
   "id": "07d6b41b",
   "metadata": {},
   "source": [
    "# Visualize Price, MACD, Volume"
   ]
  },
  {
   "cell_type": "code",
   "execution_count": 107,
   "id": "9b7f94b2",
   "metadata": {},
   "outputs": [
    {
     "data": {
      "application/vnd.plotly.v1+json": {
       "config": {
        "plotlyServerURL": "https://plot.ly"
       },
       "data": [
        {
         "close": {
          "bdata": "GQRWDi2SMEC28/3UeGkuQO18PzVeOi1AK4cW2c63LUCgGi/dJOYwQBBYObTI1jFAPgrXo3BdNECamZmZmRk1QKRwPQrXQzVAFtnO91NjNUDwp8ZLN0k3QKRwPQrX4zdA16NwPQr3NkCamZmZmbk5QIKVQ4tsxzpA8/3UeOnGO0C28/3UeAk7QDVeukkMwjpAWDm0yHYeO0A6tMh2vr87QK5H4XoUrjxA1qNwPQpXPEDdJAaBlUM/QAwCK4cWeUNAYOXQItupQ0DC9Shcj2JDQH9qvHSTWEVAl24Sg8AaRUAtsp3vpyZFQKrx0k1iQEVAeekmMQi8RkBkO99PjSdGQAAAAAAAYEdA16NwPQpXRkA+CtejcG1EQIPAyqFFpkVA/Knx0k0CR0D+1HjpJkFIQPCnxks3yUZAMzMzMzPzRUCuR+F6FM5EQB1aZDvfv0VAqMZLN4nhRkBeukkMArtGQKjGSzeJsURAAAAAAABAREBxPQrXo4BGQHsUrkfhKkhAoBov3SSmSEAW2c73U+NHQFK4HoXrYUdAVOOlm8TAR0BSuB6F63FIQArXo3A9akhAikFg5dDCSEAj2/l+aoxIQHsUrkfhWktAAiuHFtm+TUCGFtnO94NOQArXo3A9ilBAjpduEoMIUkCsHFpkOydSQD81XrpJtFNAYOXQItuRVEBuEoPAyuFVQKjGSzeJ9VVA0SLb+X6SV0AQWDm0yJZWQI6XbhKDAFZAlkOLbOcLVkDNzMzMzAxTQNejcD0K71VA0SLb+X4yVkDVeOkmMXhWQC2yne+nHldAvXSTGASeWkCNl24Sg2hbQEa28/3UOF5AXI/C9Sh8YEAUrkfheqRfQMP1KFyP4l5AhetRuB51X0BI4XoUridgQOxRuB6Fe11ApHA9CtdDXEDhehSuR9FaQAAAAAAAMFpAhetRuB4lX0CkcD0K1ytgQEjhehSu111AhetRuB61WUBmZmZmZsZdQAAAAAAAAF1AmpmZmZlZXkB7FK5H4TpfQJqZmZmZ2WBAAAAAAABAYUDhehSuR7FhQM3MzMzM7GBAXI/C9Sh0YkCPwvUoXL9hQGZmZmZmvmFAAAAAAABIYUCuR+F6FM5hQAAAAAAAyGBAZmZmZmbWYEC4HoXrUSBhQNejcD0KD2JAhetRuB79YEAfhetRuDZhQKRwPQrX02FAFK5H4XoEXkB7FK5H4TpgQDMzMzMzW2FA9ihcj8LNYEB7FK5H4TpfQFyPwvUoLFxAexSuR+FqXkDNzMzMzGxdQHsUrkfhaltApHA9CteTV0DsUbgehbtbQI/C9ShcX1lAcT0K16PAW0AAAAAAAKBcQJqZmZmZKV1AzczMzMzsYEDhehSuR2lgQFyPwvUo5GBA16NwPQq3YUDXo3A9Cr9hQDMzMzMz+2FAAAAAAAC4Y0B7FK5H4epjQD0K16NwnWRAhetRuB6NZUA=",
          "dtype": "f8"
         },
         "decreasing": {
          "line": {
           "color": "red"
          }
         },
         "high": {
          "bdata": "CtejcD3KMkCOl24Sg6AwQDMzMzMzMy5AhetRuB4FLkB56SYxCOwwQHJoke183zFAVOOlm8SgNEBt5/up8fI1QIXrUbgeBTdAeAskKH4MN0AW2c73U+M3QGZmZmZm5jdATmIQWDl0OECgGi/dJGY6QBBYObTIljtAy7kUV5XVO0AAAAAAAAA8QArXo3A9yjtAXY/C9SgcPEA1XrpJDMI7QDvHgOz1Dj1AuB6F61E4PUCGFtnO99M/QD4K16NwvUNA8tJNYhD4REBeukkMAttDQD81XrpJ3EVAHoXrUbj+RUBuEoPAymFFQAisHFpkm0VAJQaBlUMLSECCxeHMr/JHQML1KFyPskdAcT0K16OQR0CF61G4HsVGQPyp8dJNokZANl66SQwiSUAtsp3vp/ZIQA2OklfnbEhAvp8aL90UR0Dm0CLb+R5GQN9PjZduEkZAokW28/3kRkDKoUW2881HQM3MzMzMHEdA8KfGSzfZRUBBZfz7jKdGQCPb+X5qPEhAexSuR+H6SECgGi/dJEZJQKjGSzeJYUhA7Z48LNTeR0DByqFFtrNIQF6/YDdsN0lAVg4tsp3/SEC9dJMYBMZIQEA1XrpJrEtAAAAAAADATUDqJjEIrGxPQGZmZmZmplBApHA9CtcLUkDJdr6fGqdSQPCnxks3mVRAMzMzMzOTVECamZmZmVlYQD4K16Nw/VZAXaeRlsqxV0AJxOv6BTFYQGZmZmZmDldAjIS2nEuvVkCsHFpkO6dWQPrQBfUtFVZAQ4ts5/tRVkCuR+F6FA5XQBFwCFVq9FdAZmZmZmaeWkAtIR/0bPRcQCCwcmiRZV9AZmZmZmZ+aEC4HoXrUZhhQKRwPQrXA2BAMzMzMzMbYEDNzMzMzARhQBSuR+F6bGBAXI/C9SgsX0AK16NwPQpeQDMzMzMzM1tAAAAAAABAX0AAAAAAAFhgQLgehetRaGBAPQrXo3ANXUDD9ShcjzJeQArXo3A96l1Aw/UoXI/qX0DD9Shcj0JfQClcj8L1+GBAFK5H4XqcYUA9CtejcA1iQBSuR+F65GFAcT0K16O4YkDNzMzMzLRiQBSuR+F6HGNAmpmZmZnBYUDhehSuR1FiQArXo3A9umFAZmZmZmYWYUDNzMzMzLxhQM3MzMzMHGJAXI/C9SgkY0AAAAAAAFhhQNejcD0Kn2JAAAAAAAAgYECkcD0K10tgQAAAAAAAaGFArkfhehTuYUB7FK5H4VJhQM3MzMzM7F5AuB6F61F4XkApXI/C9bheQK5H4XoUjl5AH4XrUbj+W0BmZmZmZsZcQMP1KFyPklxAexSuR+H6W0CamZmZmdlcQOxRuB6Fq11AMzMzMzMLYUDNzMzMzCxhQEjhehSu72FAAAAAAAAAYkAAAAAAACBiQGZmZmZmRmJAH4XrUbjWY0CPwvUoXB9kQBSuR+F6/GRAAAAAAADIZUA=",
          "dtype": "f8"
         },
         "increasing": {
          "line": {
           "color": "green"
          }
         },
         "low": {
          "bdata": "KVyPwvVoMEDdJAaBlcMtQPhT46WbxCtAxSCwcmgRLEDVeOkmMUguQEJg5dAiuzBA4noUrkfRMUAzMzMzM/MyQPCnxks3yTRAg8DKoUX2NECyne+nxms0QDvfT42XbjZAYOXQItu5NkB56SYxCEw2QCkK9Ik8ITlAmpmZmZnZOUCF61G4HmU6QLgehetRODpAAkht4uRuOkCamZmZmTk6QD0K16NwPTtAsp3vp8YLPEDz/dR46SY8QHWTGARWzj1A8KfGSzfpQkAhsHJoka1CQMl2vp8aT0NAUrgehesBRUDNzMzMzAxEQD81XrpJrERAUI2XbhLTREDNzMzMzAxGQIXrUbgeBUZAqMZLN4mxRUBuEoPAylFEQCuHFtnOJ0RAI9v5fmocRkCLbOf7qXFGQPp+arx0k0ZAgZVDi2znRUA+CtejcH1EQC2yne+nlkRAcmiR7XyfRUDJdr6fGi9GQEOLbOf7iURAFCLgEKrwQ0Bh4Ln3cJ1DQFCNl24Sc0ZADf0TXKwMSEC4HoXrUdhHQA4tsp3vF0dA4noUrkeBRkAK16NwPepGQAaBlUOLDEhA46WbxCBgSEApXI/C9ahHQFpkO99PvUhAHoXrUbheS0B7FK5H4UpNQJqZmZmZWU5AMzMzMzOTUEBI4XoUrmdRQB1aZDvfj1BAAAAAAABIU0C4BrZKsNpUQLTIdr6fClVAcT0K16NAVUAdWmQ730dWQLgehetReFVAxSCwcmjBVEAQWDm0yOZSQJqZmZmZGVNAqrcGtkpQVEAQWDm0yA5WQGDl0CLbIVZA61G4HoVLV0Bdj8L1KLxaQNV46SYxAFxAcT0K16NAXUAzMzMzMxNfQMP1KFyPgl1AhetRuB61XUDD9Shcj8JfQKRwPQrXI11AMzMzMzOTWkBI4XoUrldZQFyPwvUorFZAcT0K16OQWkBmZmZmZsZeQD0K16NwLV1AzczMzMw8WUBcj8L1KOxZQK5H4XoUTlxA16NwPQq3XEApXI/C9chcQM3MzMzMPF9ASOF6FK4XYEAfhetRuC5hQAHeAgmKg2BACtejcD3yYEDD9Shcj4JhQM3MzMzMJGFAmpmZmZl5YEBmZmZmZjphQOF6FK5HkWBA16NwPQq3X0AfhetRuNZgQMP1KFyPumBA16NwPQrHYEC4HoXrUTBgQHsUrkfhImFAAAAAAAAQXUBxPQrXo0BcQMP1KFyPImBAKVyPwvXAYECamZmZmRldQKRwPQrX41pA4XoUrkcxWkDD9Shcj6JcQMbctYR8RFtA16NwPQoHV0BI4XoUrqdVQDMzMzMzA1lAw/UoXI/CV0CF61G4HgVaQPhT46WbtFtAUrgehesRXkCF61G4HiVgQD0K16NwnWBAzczMzMzsYECPwvUoXJthQM3MzMzM1GFAKVyPwvXAYUBI4XoUru9iQG3n+6nxqmNAcT0K16NAZEA=",
          "dtype": "f8"
         },
         "name": "OHLC",
         "open": {
          "bdata": "tvP91HgJMUDfT42XbpIwQNrO91PjJS5AwMqhRbazLUDFILByaJEuQKAaL90k5jBAqvHSTWIQMkAzMzMzM/MzQHWTGARWzjRAfT81XrqJNUAAAAAAAAA1QOtRuB6FqzdAarx0kxjkN0COl24Sg8A2QD0K16NwnTlAg8DKoUXWOkD7qfHSTYI7QKabxCCw0jpAU+Olm8SQOkAW2c73UwM7QNajcD0K1ztAE4PAyqGFPEAYBFYOLYI8QC2yne+n5j5AXI/C9ShMREAxCKwcWnRDQJqZmZmZmUNAOrTIdr5/RUBeukkMAjtFQBkEVg4tQkVAarx0kxhURUCiRbbz/SRHQCGwcmiRXUZAjpduEoNgR0CS7Xw/NY5GQJLtfD81PkRArBxaZDs/RkAEVg4tsj1HQAaBlUOLHEhAbef7qfESR0A6tMh2vl9FQM/3U+Oly0RApHA9CtcDRkCyne+nxmtGQPLSTWIQiEZAWmQ730+dREBCYOXQIotEQCPb+X5qpEZAKVyPwvUoSEAOLbKd76dIQGZmZmZm5kdAYOXQItsJR0ACK4cW2b5HQDMzMzMzs0hAlkOLbOd7SECsHFpkO59IQKjGSzeJwUhA+6nx0k2CS0CDwMqhRQZOQAVWDi2ynU5AZmZmZmYOUUBmZmZmZiZSQPhT46Wb/FFAzczMzMzsU0C4HoXrUQhVQPp+arx0m1VARrbz/dSYVkBOYhBYOXxXQEJg5dAik1ZAzczMzMwsVkCDwMqhRUZWQC2yne+nhlNArkfhehTmVUApXI/C9VhWQDvfT42XnlZAAAAAAABwV0BWDi2ynY9bQDq0yHa+Z1xASOF6FK4XXkBI4XoUrp9gQI/C9Shcz15ArkfhehTeXkCPwvUoXN9fQFK4HoXrUWBAZmZmZmYWXkBcj8L1KGxcQKRwPQrXA1dAFK5H4XqUWkBSuB6F6xFfQArXo3A9MmBAcT0K16MAXUC4HoXrUThaQMP1KFyPMl1AMzMzMzMjXUCkcD0K15NdQI/C9ShcP19A16NwPQoPYUBcj8L1KERhQAAAAAAA4GFAH4XrUbgmYUD2KFyPwpViQAAAAAAAcGFASOF6FK6/YUDD9Shcj1phQNejcD0KX2FA9ihcj8LFYEApXI/C9QhhQMP1KFyP2mBAexSuR+GSYkBI4XoUrj9gQIXrUbgeZWFAMzMzMzMzX0AAAAAAALBcQHsUrkfhQmBAcT0K16OoYUBSuB6F6xFhQHE9Ctej4F5AmpmZmZl5W0CPwvUoXK9eQLgehetR+F1AuB6F61FIWkA9CtejcN1VQNejcD0Kh1xA4XoUrkexWEBcj8L1KGxbQFK4HoXrOVxArkfhehR+XkAUrkfheoxgQM3MzMzMxGBASOF6FK7vYECuR+F6FOZhQNejcD0K62FAAAAAAADQYUDNzMzMzMxjQGZmZmZmxmNApHA9CterZEA=",
          "dtype": "f8"
         },
         "type": "candlestick",
         "x": [
          "2022-12-12T05:00:00+00:00",
          "2022-12-19T05:00:00+00:00",
          "2022-12-26T05:00:00+00:00",
          "2023-01-02T05:00:00+00:00",
          "2023-01-09T05:00:00+00:00",
          "2023-01-16T05:00:00+00:00",
          "2023-01-23T05:00:00+00:00",
          "2023-01-30T05:00:00+00:00",
          "2023-02-06T05:00:00+00:00",
          "2023-02-13T05:00:00+00:00",
          "2023-02-20T05:00:00+00:00",
          "2023-02-27T05:00:00+00:00",
          "2023-03-06T05:00:00+00:00",
          "2023-03-13T04:00:00+00:00",
          "2023-03-20T04:00:00+00:00",
          "2023-03-27T04:00:00+00:00",
          "2023-04-03T04:00:00+00:00",
          "2023-04-10T04:00:00+00:00",
          "2023-04-17T04:00:00+00:00",
          "2023-04-24T04:00:00+00:00",
          "2023-05-01T04:00:00+00:00",
          "2023-05-08T04:00:00+00:00",
          "2023-05-15T04:00:00+00:00",
          "2023-05-22T04:00:00+00:00",
          "2023-05-29T04:00:00+00:00",
          "2023-06-05T04:00:00+00:00",
          "2023-06-12T04:00:00+00:00",
          "2023-06-19T04:00:00+00:00",
          "2023-06-26T04:00:00+00:00",
          "2023-07-03T04:00:00+00:00",
          "2023-07-10T04:00:00+00:00",
          "2023-07-17T04:00:00+00:00",
          "2023-07-24T04:00:00+00:00",
          "2023-07-31T04:00:00+00:00",
          "2023-08-07T04:00:00+00:00",
          "2023-08-14T04:00:00+00:00",
          "2023-08-21T04:00:00+00:00",
          "2023-08-28T04:00:00+00:00",
          "2023-09-04T04:00:00+00:00",
          "2023-09-11T04:00:00+00:00",
          "2023-09-18T04:00:00+00:00",
          "2023-09-25T04:00:00+00:00",
          "2023-10-02T04:00:00+00:00",
          "2023-10-09T04:00:00+00:00",
          "2023-10-16T04:00:00+00:00",
          "2023-10-23T04:00:00+00:00",
          "2023-10-30T04:00:00+00:00",
          "2023-11-06T05:00:00+00:00",
          "2023-11-13T05:00:00+00:00",
          "2023-11-20T05:00:00+00:00",
          "2023-11-27T05:00:00+00:00",
          "2023-12-04T05:00:00+00:00",
          "2023-12-11T05:00:00+00:00",
          "2023-12-18T05:00:00+00:00",
          "2023-12-25T05:00:00+00:00",
          "2024-01-01T05:00:00+00:00",
          "2024-01-08T05:00:00+00:00",
          "2024-01-15T05:00:00+00:00",
          "2024-01-22T05:00:00+00:00",
          "2024-01-29T05:00:00+00:00",
          "2024-02-05T05:00:00+00:00",
          "2024-02-12T05:00:00+00:00",
          "2024-02-19T05:00:00+00:00",
          "2024-02-26T05:00:00+00:00",
          "2024-03-04T05:00:00+00:00",
          "2024-03-11T04:00:00+00:00",
          "2024-03-18T04:00:00+00:00",
          "2024-03-25T04:00:00+00:00",
          "2024-04-01T04:00:00+00:00",
          "2024-04-08T04:00:00+00:00",
          "2024-04-15T04:00:00+00:00",
          "2024-04-22T04:00:00+00:00",
          "2024-04-29T04:00:00+00:00",
          "2024-05-06T04:00:00+00:00",
          "2024-05-13T04:00:00+00:00",
          "2024-05-20T04:00:00+00:00",
          "2024-05-27T04:00:00+00:00",
          "2024-06-03T04:00:00+00:00",
          "2024-06-10T04:00:00+00:00",
          "2024-06-17T04:00:00+00:00",
          "2024-06-24T04:00:00+00:00",
          "2024-07-01T04:00:00+00:00",
          "2024-07-08T04:00:00+00:00",
          "2024-07-15T04:00:00+00:00",
          "2024-07-22T04:00:00+00:00",
          "2024-07-29T04:00:00+00:00",
          "2024-08-05T04:00:00+00:00",
          "2024-08-12T04:00:00+00:00",
          "2024-08-19T04:00:00+00:00",
          "2024-08-26T04:00:00+00:00",
          "2024-09-02T04:00:00+00:00",
          "2024-09-09T04:00:00+00:00",
          "2024-09-16T04:00:00+00:00",
          "2024-09-23T04:00:00+00:00",
          "2024-09-30T04:00:00+00:00",
          "2024-10-07T04:00:00+00:00",
          "2024-10-14T04:00:00+00:00",
          "2024-10-21T04:00:00+00:00",
          "2024-10-28T04:00:00+00:00",
          "2024-11-04T05:00:00+00:00",
          "2024-11-11T05:00:00+00:00",
          "2024-11-18T05:00:00+00:00",
          "2024-11-25T05:00:00+00:00",
          "2024-12-02T05:00:00+00:00",
          "2024-12-09T05:00:00+00:00",
          "2024-12-16T05:00:00+00:00",
          "2024-12-23T05:00:00+00:00",
          "2024-12-30T05:00:00+00:00",
          "2025-01-06T05:00:00+00:00",
          "2025-01-13T05:00:00+00:00",
          "2025-01-20T05:00:00+00:00",
          "2025-01-27T05:00:00+00:00",
          "2025-02-03T05:00:00+00:00",
          "2025-02-10T05:00:00+00:00",
          "2025-02-17T05:00:00+00:00",
          "2025-02-24T05:00:00+00:00",
          "2025-03-03T05:00:00+00:00",
          "2025-03-10T04:00:00+00:00",
          "2025-03-17T04:00:00+00:00",
          "2025-03-24T04:00:00+00:00",
          "2025-03-31T04:00:00+00:00",
          "2025-04-07T04:00:00+00:00",
          "2025-04-14T04:00:00+00:00",
          "2025-04-21T04:00:00+00:00",
          "2025-04-28T04:00:00+00:00",
          "2025-05-05T04:00:00+00:00",
          "2025-05-12T04:00:00+00:00",
          "2025-05-19T04:00:00+00:00",
          "2025-05-26T04:00:00+00:00",
          "2025-06-02T04:00:00+00:00",
          "2025-06-09T04:00:00+00:00",
          "2025-06-16T04:00:00+00:00",
          "2025-06-23T04:00:00+00:00",
          "2025-06-30T04:00:00+00:00",
          "2025-07-07T04:00:00+00:00",
          "2025-07-14T04:00:00+00:00"
         ],
         "xaxis": "x",
         "yaxis": "y"
        },
        {
         "line": {
          "color": "orange"
         },
         "name": "SMA 5",
         "type": "scatter",
         "x": [
          "2022-12-12T05:00:00+00:00",
          "2022-12-19T05:00:00+00:00",
          "2022-12-26T05:00:00+00:00",
          "2023-01-02T05:00:00+00:00",
          "2023-01-09T05:00:00+00:00",
          "2023-01-16T05:00:00+00:00",
          "2023-01-23T05:00:00+00:00",
          "2023-01-30T05:00:00+00:00",
          "2023-02-06T05:00:00+00:00",
          "2023-02-13T05:00:00+00:00",
          "2023-02-20T05:00:00+00:00",
          "2023-02-27T05:00:00+00:00",
          "2023-03-06T05:00:00+00:00",
          "2023-03-13T04:00:00+00:00",
          "2023-03-20T04:00:00+00:00",
          "2023-03-27T04:00:00+00:00",
          "2023-04-03T04:00:00+00:00",
          "2023-04-10T04:00:00+00:00",
          "2023-04-17T04:00:00+00:00",
          "2023-04-24T04:00:00+00:00",
          "2023-05-01T04:00:00+00:00",
          "2023-05-08T04:00:00+00:00",
          "2023-05-15T04:00:00+00:00",
          "2023-05-22T04:00:00+00:00",
          "2023-05-29T04:00:00+00:00",
          "2023-06-05T04:00:00+00:00",
          "2023-06-12T04:00:00+00:00",
          "2023-06-19T04:00:00+00:00",
          "2023-06-26T04:00:00+00:00",
          "2023-07-03T04:00:00+00:00",
          "2023-07-10T04:00:00+00:00",
          "2023-07-17T04:00:00+00:00",
          "2023-07-24T04:00:00+00:00",
          "2023-07-31T04:00:00+00:00",
          "2023-08-07T04:00:00+00:00",
          "2023-08-14T04:00:00+00:00",
          "2023-08-21T04:00:00+00:00",
          "2023-08-28T04:00:00+00:00",
          "2023-09-04T04:00:00+00:00",
          "2023-09-11T04:00:00+00:00",
          "2023-09-18T04:00:00+00:00",
          "2023-09-25T04:00:00+00:00",
          "2023-10-02T04:00:00+00:00",
          "2023-10-09T04:00:00+00:00",
          "2023-10-16T04:00:00+00:00",
          "2023-10-23T04:00:00+00:00",
          "2023-10-30T04:00:00+00:00",
          "2023-11-06T05:00:00+00:00",
          "2023-11-13T05:00:00+00:00",
          "2023-11-20T05:00:00+00:00",
          "2023-11-27T05:00:00+00:00",
          "2023-12-04T05:00:00+00:00",
          "2023-12-11T05:00:00+00:00",
          "2023-12-18T05:00:00+00:00",
          "2023-12-25T05:00:00+00:00",
          "2024-01-01T05:00:00+00:00",
          "2024-01-08T05:00:00+00:00",
          "2024-01-15T05:00:00+00:00",
          "2024-01-22T05:00:00+00:00",
          "2024-01-29T05:00:00+00:00",
          "2024-02-05T05:00:00+00:00",
          "2024-02-12T05:00:00+00:00",
          "2024-02-19T05:00:00+00:00",
          "2024-02-26T05:00:00+00:00",
          "2024-03-04T05:00:00+00:00",
          "2024-03-11T04:00:00+00:00",
          "2024-03-18T04:00:00+00:00",
          "2024-03-25T04:00:00+00:00",
          "2024-04-01T04:00:00+00:00",
          "2024-04-08T04:00:00+00:00",
          "2024-04-15T04:00:00+00:00",
          "2024-04-22T04:00:00+00:00",
          "2024-04-29T04:00:00+00:00",
          "2024-05-06T04:00:00+00:00",
          "2024-05-13T04:00:00+00:00",
          "2024-05-20T04:00:00+00:00",
          "2024-05-27T04:00:00+00:00",
          "2024-06-03T04:00:00+00:00",
          "2024-06-10T04:00:00+00:00",
          "2024-06-17T04:00:00+00:00",
          "2024-06-24T04:00:00+00:00",
          "2024-07-01T04:00:00+00:00",
          "2024-07-08T04:00:00+00:00",
          "2024-07-15T04:00:00+00:00",
          "2024-07-22T04:00:00+00:00",
          "2024-07-29T04:00:00+00:00",
          "2024-08-05T04:00:00+00:00",
          "2024-08-12T04:00:00+00:00",
          "2024-08-19T04:00:00+00:00",
          "2024-08-26T04:00:00+00:00",
          "2024-09-02T04:00:00+00:00",
          "2024-09-09T04:00:00+00:00",
          "2024-09-16T04:00:00+00:00",
          "2024-09-23T04:00:00+00:00",
          "2024-09-30T04:00:00+00:00",
          "2024-10-07T04:00:00+00:00",
          "2024-10-14T04:00:00+00:00",
          "2024-10-21T04:00:00+00:00",
          "2024-10-28T04:00:00+00:00",
          "2024-11-04T05:00:00+00:00",
          "2024-11-11T05:00:00+00:00",
          "2024-11-18T05:00:00+00:00",
          "2024-11-25T05:00:00+00:00",
          "2024-12-02T05:00:00+00:00",
          "2024-12-09T05:00:00+00:00",
          "2024-12-16T05:00:00+00:00",
          "2024-12-23T05:00:00+00:00",
          "2024-12-30T05:00:00+00:00",
          "2025-01-06T05:00:00+00:00",
          "2025-01-13T05:00:00+00:00",
          "2025-01-20T05:00:00+00:00",
          "2025-01-27T05:00:00+00:00",
          "2025-02-03T05:00:00+00:00",
          "2025-02-10T05:00:00+00:00",
          "2025-02-17T05:00:00+00:00",
          "2025-02-24T05:00:00+00:00",
          "2025-03-03T05:00:00+00:00",
          "2025-03-10T04:00:00+00:00",
          "2025-03-17T04:00:00+00:00",
          "2025-03-24T04:00:00+00:00",
          "2025-03-31T04:00:00+00:00",
          "2025-04-07T04:00:00+00:00",
          "2025-04-14T04:00:00+00:00",
          "2025-04-21T04:00:00+00:00",
          "2025-04-28T04:00:00+00:00",
          "2025-05-05T04:00:00+00:00",
          "2025-05-12T04:00:00+00:00",
          "2025-05-19T04:00:00+00:00",
          "2025-05-26T04:00:00+00:00",
          "2025-06-02T04:00:00+00:00",
          "2025-06-09T04:00:00+00:00",
          "2025-06-16T04:00:00+00:00",
          "2025-06-23T04:00:00+00:00",
          "2025-06-30T04:00:00+00:00",
          "2025-07-07T04:00:00+00:00",
          "2025-07-14T04:00:00+00:00"
         ],
         "xaxis": "x",
         "y": {
          "bdata": "6bevA+dsMEA0gLdAgmIwQMsQx7q4DTBA6revA+dML0CmCkYldUIvQKOSOgFNxC9AmEwVjErqMECfq63YXzYyQDxO0ZFcfjNAhqdXyjJkNECz6nO1FXs1QMiYu5aQLzZAOgFNhA2PNkBsCfmgZ3M3QIKVQ4tshzhA6dms+lxtOUAg9GxWfQ46QP6ye/Kw0DpA8tJNYhAYO0B9PzVeukk7QNXnaiv2dztAQj7o2ay6O0D9ZffkYaE8QFZbsb/s/j5AufyH9NunQEC1pnnHKapBQNLe4AuTGUNAp1fKMsQxREBI4XoUrodEQPAWSFD82ERAFK5H4XqERUB2cRsN4K1FQIqO5PIfIkZArYvbaABfRkAwKqkT0DRGQMzuycNC/UVAt9EA3gIpRkCEL0ymClZGQCL99nXgbEZA7Z48LNS6RkCPU3Qkl49GQMl2vp8aT0ZAt0CC4scIRkBnRGlv8AVGQEvIBz2bxUVAKe0NvjCpRUA6tMh2vs9FQP72deCcEUZApHA9CtdzRkC62or9ZRdHQGTMXUvIt0dAK4cW2c73R0C8dJMYBAZIQNIA3gIJ+kdAguLHmLsmSEDfT42XbmJIQLRZ9bnaGklAC9ejcD0qSkCKsOHplWJLQEDG3LWEDE1ACtejcD1aT0A17zhFR5JQQCcPC7WmiVFAYVRSJ6CZUkBCYOXQIqtTQEYDeAskdFRA6Gor9peJVUBF2PD0Sh1WQLXIdr6fZlZAidLe4AtvVkDD0ytlGdpVQJLtfD81hlVAUkmdgCZyVUBgdk8eFopVQH6MuWsJwVVAFa5H4XpEV0AGEhQ/xlxYQB3J5T+k91lAfR04Z0QRXEATg8DKocVdQEYDeAskoF5Ara3YX3ZvX0DtfD81XtpfQCuHFtnOJ19AexSuR+F6XkC1yHa+n6pdQM3MzMzMnFxA/tR46SZhXEDdJAaBlfNcQDIIrBxaRF1A61G4HoULXUAzMzMzM8NdQEs3iUFgVV1AjsL1KFzvXEBmZmZmZjZdQFYOLbKdz15AqMZLN4nBX0BOYhBYOYRgQOj7qfHS3WBAukkMAitvYUCF61G4Hp1hQGZmZmZmtmFA001iEFihYUBmZmZmZs5hQFPjpZvEeGFAGARWDi1KYUDC9ShcjyphQO58PzVeUmFAf2q8dJMoYUAehetRuD5hQMUgsHJocWFAokW28/0EYUCPwvUoXKdgQBkEVg4tumBAdr6fGi+lYECWQ4ts5zNgQOomMQisBGBAU+Olm8SgX0A1XrpJDJJeQIbrUbgeVV1AWmQ730/NW0AQWDm0yLZbQBWuR+F6tFpAAyuHFtleWkDqJjEIrJxaQLXIdr6fultAo3A9CtfzXEDiehSuR3FeQL10kxgEpl9A8KfGSzeBYEAlBoGVQyNhQNJNYhBYWWFAppvEILACYkASg8DKoZ1iQCcxCKwcMmNAsHJoke30Y0A=",
          "dtype": "f8"
         },
         "yaxis": "y"
        },
        {
         "line": {
          "color": "purple"
         },
         "name": "SMA 20",
         "type": "scatter",
         "x": [
          "2022-12-12T05:00:00+00:00",
          "2022-12-19T05:00:00+00:00",
          "2022-12-26T05:00:00+00:00",
          "2023-01-02T05:00:00+00:00",
          "2023-01-09T05:00:00+00:00",
          "2023-01-16T05:00:00+00:00",
          "2023-01-23T05:00:00+00:00",
          "2023-01-30T05:00:00+00:00",
          "2023-02-06T05:00:00+00:00",
          "2023-02-13T05:00:00+00:00",
          "2023-02-20T05:00:00+00:00",
          "2023-02-27T05:00:00+00:00",
          "2023-03-06T05:00:00+00:00",
          "2023-03-13T04:00:00+00:00",
          "2023-03-20T04:00:00+00:00",
          "2023-03-27T04:00:00+00:00",
          "2023-04-03T04:00:00+00:00",
          "2023-04-10T04:00:00+00:00",
          "2023-04-17T04:00:00+00:00",
          "2023-04-24T04:00:00+00:00",
          "2023-05-01T04:00:00+00:00",
          "2023-05-08T04:00:00+00:00",
          "2023-05-15T04:00:00+00:00",
          "2023-05-22T04:00:00+00:00",
          "2023-05-29T04:00:00+00:00",
          "2023-06-05T04:00:00+00:00",
          "2023-06-12T04:00:00+00:00",
          "2023-06-19T04:00:00+00:00",
          "2023-06-26T04:00:00+00:00",
          "2023-07-03T04:00:00+00:00",
          "2023-07-10T04:00:00+00:00",
          "2023-07-17T04:00:00+00:00",
          "2023-07-24T04:00:00+00:00",
          "2023-07-31T04:00:00+00:00",
          "2023-08-07T04:00:00+00:00",
          "2023-08-14T04:00:00+00:00",
          "2023-08-21T04:00:00+00:00",
          "2023-08-28T04:00:00+00:00",
          "2023-09-04T04:00:00+00:00",
          "2023-09-11T04:00:00+00:00",
          "2023-09-18T04:00:00+00:00",
          "2023-09-25T04:00:00+00:00",
          "2023-10-02T04:00:00+00:00",
          "2023-10-09T04:00:00+00:00",
          "2023-10-16T04:00:00+00:00",
          "2023-10-23T04:00:00+00:00",
          "2023-10-30T04:00:00+00:00",
          "2023-11-06T05:00:00+00:00",
          "2023-11-13T05:00:00+00:00",
          "2023-11-20T05:00:00+00:00",
          "2023-11-27T05:00:00+00:00",
          "2023-12-04T05:00:00+00:00",
          "2023-12-11T05:00:00+00:00",
          "2023-12-18T05:00:00+00:00",
          "2023-12-25T05:00:00+00:00",
          "2024-01-01T05:00:00+00:00",
          "2024-01-08T05:00:00+00:00",
          "2024-01-15T05:00:00+00:00",
          "2024-01-22T05:00:00+00:00",
          "2024-01-29T05:00:00+00:00",
          "2024-02-05T05:00:00+00:00",
          "2024-02-12T05:00:00+00:00",
          "2024-02-19T05:00:00+00:00",
          "2024-02-26T05:00:00+00:00",
          "2024-03-04T05:00:00+00:00",
          "2024-03-11T04:00:00+00:00",
          "2024-03-18T04:00:00+00:00",
          "2024-03-25T04:00:00+00:00",
          "2024-04-01T04:00:00+00:00",
          "2024-04-08T04:00:00+00:00",
          "2024-04-15T04:00:00+00:00",
          "2024-04-22T04:00:00+00:00",
          "2024-04-29T04:00:00+00:00",
          "2024-05-06T04:00:00+00:00",
          "2024-05-13T04:00:00+00:00",
          "2024-05-20T04:00:00+00:00",
          "2024-05-27T04:00:00+00:00",
          "2024-06-03T04:00:00+00:00",
          "2024-06-10T04:00:00+00:00",
          "2024-06-17T04:00:00+00:00",
          "2024-06-24T04:00:00+00:00",
          "2024-07-01T04:00:00+00:00",
          "2024-07-08T04:00:00+00:00",
          "2024-07-15T04:00:00+00:00",
          "2024-07-22T04:00:00+00:00",
          "2024-07-29T04:00:00+00:00",
          "2024-08-05T04:00:00+00:00",
          "2024-08-12T04:00:00+00:00",
          "2024-08-19T04:00:00+00:00",
          "2024-08-26T04:00:00+00:00",
          "2024-09-02T04:00:00+00:00",
          "2024-09-09T04:00:00+00:00",
          "2024-09-16T04:00:00+00:00",
          "2024-09-23T04:00:00+00:00",
          "2024-09-30T04:00:00+00:00",
          "2024-10-07T04:00:00+00:00",
          "2024-10-14T04:00:00+00:00",
          "2024-10-21T04:00:00+00:00",
          "2024-10-28T04:00:00+00:00",
          "2024-11-04T05:00:00+00:00",
          "2024-11-11T05:00:00+00:00",
          "2024-11-18T05:00:00+00:00",
          "2024-11-25T05:00:00+00:00",
          "2024-12-02T05:00:00+00:00",
          "2024-12-09T05:00:00+00:00",
          "2024-12-16T05:00:00+00:00",
          "2024-12-23T05:00:00+00:00",
          "2024-12-30T05:00:00+00:00",
          "2025-01-06T05:00:00+00:00",
          "2025-01-13T05:00:00+00:00",
          "2025-01-20T05:00:00+00:00",
          "2025-01-27T05:00:00+00:00",
          "2025-02-03T05:00:00+00:00",
          "2025-02-10T05:00:00+00:00",
          "2025-02-17T05:00:00+00:00",
          "2025-02-24T05:00:00+00:00",
          "2025-03-03T05:00:00+00:00",
          "2025-03-10T04:00:00+00:00",
          "2025-03-17T04:00:00+00:00",
          "2025-03-24T04:00:00+00:00",
          "2025-03-31T04:00:00+00:00",
          "2025-04-07T04:00:00+00:00",
          "2025-04-14T04:00:00+00:00",
          "2025-04-21T04:00:00+00:00",
          "2025-04-28T04:00:00+00:00",
          "2025-05-05T04:00:00+00:00",
          "2025-05-12T04:00:00+00:00",
          "2025-05-19T04:00:00+00:00",
          "2025-05-26T04:00:00+00:00",
          "2025-06-02T04:00:00+00:00",
          "2025-06-09T04:00:00+00:00",
          "2025-06-16T04:00:00+00:00",
          "2025-06-23T04:00:00+00:00",
          "2025-06-30T04:00:00+00:00",
          "2025-07-07T04:00:00+00:00",
          "2025-07-14T04:00:00+00:00"
         ],
         "xaxis": "x",
         "y": {
          "bdata": "riXkg579LUAFEhQ/xpwtQMBbIEHxMy1AutqK/WXnLECdEaW9wfcsQFCNl24SYy1AzhlR2hv8LUBmZmZmZsYuQKCrrdhfpi9A0t7gC5NJMEBGR3L5D9kwQKW9wRcmezFAqMZLN4kBMkDgnBGlvZkyQLJ78rBQOzNAdnEbDeDNM0BtVn2utmI0QClcj8L16DRAowG8BRJsNUB24JwRpfU1QHE9CtejkDZA8YXJVME4N0B1cRsN4A04QHxhMlUwQjlAfR04Z0RhOkB2vp8aL207QDOitDf4ijxAYDJVMCqZPUCQfvs6cKY+QBU/xty1tD9Aak3zjlNoQEBeukkMAutAQKwcWmQ7g0FABoGVQ4v8QUBm9+RhoVZCQOAtkKD4uUJASFD8GHMzQ0Atsp3vp75DQPGFyVTBNERAMnctIR+cREDJ5T+k3+5EQDLmriXkT0VAm1Wfq62sRUCfq63YX9ZFQBZqTfOO40VAZvfkYaHuRUCM22gAb/1FQHE9CtejJEZAdk8eFmpRRkAJG55eKXNGQPp+arx0e0ZA+aBns+qPRkD99nXgnJ1GQMDsnjwsuEZAHcnlP6TvRkA/V1uxvxRHQPjCZKpgTEdA3uALk6mSR0CamZmZmfVHQPLSTWIQhEhAHjhnRGlHSUDgnBGlvQFKQEXY8PRK1UpAsHJoke3AS0AAkX77OuhMQHa+nxovF05ARiV1AppST0BU46WbxC9QQHA9Ctejq1BAy6FFtvMsUUCgGi/dJItRQCL99nXgC1JAEce6uI2LUkDuWkI+6A5TQJoIG55emFNAKVyPwvVPVEBtVn2utv9UQHa+nxovxFVAPSzUmuamVkCWkA96NmhXQBriWBe3DFhAC0YldQK3WEDo2az6XFhZQPA4RUdyyllApb3BFyYcWkB1kxgEVlpaQIOezarPe1pAFtnO91PpWkD6D+m3r21bQA4LtaZ50VtAALN78rAmXEDtL7snD4tcQJXUCWgi4lxABqOSOgFHXUCIQWDl0K5dQA4LtaZ5CV5AFR3J5T9kXkB1kxgEVqZeQJqZmZmZsV5Ao0W28/30XkAAAAAAADBfQN0kBoGVY19AI9v5fmqAX0ACK4cW2c5fQBbZzvdTCWBA76fGSzc1YEBGtvP91GhgQC2yne+niGBAhetRuB6TYEBYObTIdrBgQOOlm8Qg8GBAR+F6FK7xYEDn+6nx0gdhQDm0yHa+I2FAKlyPwvUyYUD+1HjpJiNhQC2yne+n+mBAvp8aL93aYEAGgZVDi75gQCqHFtnOgWBAqMZLN4k1YECWQ4ts5wNgQBgEVg4tkl9AmpmZmZktX0BmZmZmZu5eQHI9CtejtF5Ac2iR7XyvXkBbZDvfT4VeQIhBYOXQgl5A0PdT46WPXkAgsHJokY1eQIts5/up2V5A5dAi2/kyX0AGgZVDi3RfQCYxCKwc1l9A16NwPQo3YEA=",
          "dtype": "f8"
         },
         "yaxis": "y"
        },
        {
         "line": {
          "color": "blue"
         },
         "name": "SMA 50",
         "type": "scatter",
         "x": [
          "2022-12-12T05:00:00+00:00",
          "2022-12-19T05:00:00+00:00",
          "2022-12-26T05:00:00+00:00",
          "2023-01-02T05:00:00+00:00",
          "2023-01-09T05:00:00+00:00",
          "2023-01-16T05:00:00+00:00",
          "2023-01-23T05:00:00+00:00",
          "2023-01-30T05:00:00+00:00",
          "2023-02-06T05:00:00+00:00",
          "2023-02-13T05:00:00+00:00",
          "2023-02-20T05:00:00+00:00",
          "2023-02-27T05:00:00+00:00",
          "2023-03-06T05:00:00+00:00",
          "2023-03-13T04:00:00+00:00",
          "2023-03-20T04:00:00+00:00",
          "2023-03-27T04:00:00+00:00",
          "2023-04-03T04:00:00+00:00",
          "2023-04-10T04:00:00+00:00",
          "2023-04-17T04:00:00+00:00",
          "2023-04-24T04:00:00+00:00",
          "2023-05-01T04:00:00+00:00",
          "2023-05-08T04:00:00+00:00",
          "2023-05-15T04:00:00+00:00",
          "2023-05-22T04:00:00+00:00",
          "2023-05-29T04:00:00+00:00",
          "2023-06-05T04:00:00+00:00",
          "2023-06-12T04:00:00+00:00",
          "2023-06-19T04:00:00+00:00",
          "2023-06-26T04:00:00+00:00",
          "2023-07-03T04:00:00+00:00",
          "2023-07-10T04:00:00+00:00",
          "2023-07-17T04:00:00+00:00",
          "2023-07-24T04:00:00+00:00",
          "2023-07-31T04:00:00+00:00",
          "2023-08-07T04:00:00+00:00",
          "2023-08-14T04:00:00+00:00",
          "2023-08-21T04:00:00+00:00",
          "2023-08-28T04:00:00+00:00",
          "2023-09-04T04:00:00+00:00",
          "2023-09-11T04:00:00+00:00",
          "2023-09-18T04:00:00+00:00",
          "2023-09-25T04:00:00+00:00",
          "2023-10-02T04:00:00+00:00",
          "2023-10-09T04:00:00+00:00",
          "2023-10-16T04:00:00+00:00",
          "2023-10-23T04:00:00+00:00",
          "2023-10-30T04:00:00+00:00",
          "2023-11-06T05:00:00+00:00",
          "2023-11-13T05:00:00+00:00",
          "2023-11-20T05:00:00+00:00",
          "2023-11-27T05:00:00+00:00",
          "2023-12-04T05:00:00+00:00",
          "2023-12-11T05:00:00+00:00",
          "2023-12-18T05:00:00+00:00",
          "2023-12-25T05:00:00+00:00",
          "2024-01-01T05:00:00+00:00",
          "2024-01-08T05:00:00+00:00",
          "2024-01-15T05:00:00+00:00",
          "2024-01-22T05:00:00+00:00",
          "2024-01-29T05:00:00+00:00",
          "2024-02-05T05:00:00+00:00",
          "2024-02-12T05:00:00+00:00",
          "2024-02-19T05:00:00+00:00",
          "2024-02-26T05:00:00+00:00",
          "2024-03-04T05:00:00+00:00",
          "2024-03-11T04:00:00+00:00",
          "2024-03-18T04:00:00+00:00",
          "2024-03-25T04:00:00+00:00",
          "2024-04-01T04:00:00+00:00",
          "2024-04-08T04:00:00+00:00",
          "2024-04-15T04:00:00+00:00",
          "2024-04-22T04:00:00+00:00",
          "2024-04-29T04:00:00+00:00",
          "2024-05-06T04:00:00+00:00",
          "2024-05-13T04:00:00+00:00",
          "2024-05-20T04:00:00+00:00",
          "2024-05-27T04:00:00+00:00",
          "2024-06-03T04:00:00+00:00",
          "2024-06-10T04:00:00+00:00",
          "2024-06-17T04:00:00+00:00",
          "2024-06-24T04:00:00+00:00",
          "2024-07-01T04:00:00+00:00",
          "2024-07-08T04:00:00+00:00",
          "2024-07-15T04:00:00+00:00",
          "2024-07-22T04:00:00+00:00",
          "2024-07-29T04:00:00+00:00",
          "2024-08-05T04:00:00+00:00",
          "2024-08-12T04:00:00+00:00",
          "2024-08-19T04:00:00+00:00",
          "2024-08-26T04:00:00+00:00",
          "2024-09-02T04:00:00+00:00",
          "2024-09-09T04:00:00+00:00",
          "2024-09-16T04:00:00+00:00",
          "2024-09-23T04:00:00+00:00",
          "2024-09-30T04:00:00+00:00",
          "2024-10-07T04:00:00+00:00",
          "2024-10-14T04:00:00+00:00",
          "2024-10-21T04:00:00+00:00",
          "2024-10-28T04:00:00+00:00",
          "2024-11-04T05:00:00+00:00",
          "2024-11-11T05:00:00+00:00",
          "2024-11-18T05:00:00+00:00",
          "2024-11-25T05:00:00+00:00",
          "2024-12-02T05:00:00+00:00",
          "2024-12-09T05:00:00+00:00",
          "2024-12-16T05:00:00+00:00",
          "2024-12-23T05:00:00+00:00",
          "2024-12-30T05:00:00+00:00",
          "2025-01-06T05:00:00+00:00",
          "2025-01-13T05:00:00+00:00",
          "2025-01-20T05:00:00+00:00",
          "2025-01-27T05:00:00+00:00",
          "2025-02-03T05:00:00+00:00",
          "2025-02-10T05:00:00+00:00",
          "2025-02-17T05:00:00+00:00",
          "2025-02-24T05:00:00+00:00",
          "2025-03-03T05:00:00+00:00",
          "2025-03-10T04:00:00+00:00",
          "2025-03-17T04:00:00+00:00",
          "2025-03-24T04:00:00+00:00",
          "2025-03-31T04:00:00+00:00",
          "2025-04-07T04:00:00+00:00",
          "2025-04-14T04:00:00+00:00",
          "2025-04-21T04:00:00+00:00",
          "2025-04-28T04:00:00+00:00",
          "2025-05-05T04:00:00+00:00",
          "2025-05-12T04:00:00+00:00",
          "2025-05-19T04:00:00+00:00",
          "2025-05-26T04:00:00+00:00",
          "2025-06-02T04:00:00+00:00",
          "2025-06-09T04:00:00+00:00",
          "2025-06-16T04:00:00+00:00",
          "2025-06-23T04:00:00+00:00",
          "2025-06-30T04:00:00+00:00",
          "2025-07-07T04:00:00+00:00",
          "2025-07-14T04:00:00+00:00"
         ],
         "xaxis": "x",
         "y": {
          "bdata": "fT81XrqJMkB5Bg39E0wyQAaGrG71DDJAxAPKplzhMUBs5/up8cIxQKhXyjLEoTFArJDyk2qPMUCKPEm6ZoIxQPrVHCCYczFACFqBIatrMUDhnBGlvXExQBQF+kSeZDFAI9v5fmpMMUDWbrvQXEcxQAuA8QwaWjFAeo1donp7MUAZkL3e/aExQHnpJjEIzDFASNxj6UP3MUBf7/54ryoyQNYhN8MNaDJAYmcKndeYMkDTn/1IEdkyQLYtymyQSTNA/fZ14JzBM0CqDrkZbjA0QBtHrMWnwDRAuojvxKxHNUA6QDBHj881QHHmV3OAUDZAeJeL+E7cNkA8Sbpm8l03QJI6AU2E7TdAu5unOuR2OEC/gjRj0fQ4QAa7YduijDlArYbEPZYuOkClTkATYeM6QOkJSzygjDtAyc1wAz4vPECDNGPRdMY8QEC8rl+waz1A2nxcGyoWPkBI5pE/GLg+QKWl8naEQz9AO5LLf0i/P0Cztb5IaCtAQBMsDmd+fUBAnOEGfH7QQECsOUAwRx9BQFuU2SCTbEFAATCeQUO/QUCCkCxgAhdCQEuwOJz5bUJAqKlla33BQkDhC5OpghFDQIzbaABvaUNACHdn7bbLQ0BvZB75gzFEQE4oRMAhpERADDz3Hi4hRUBa3eo56Z1FQM0GmWTkLEZAPZtVn6u9RkDhQEgWMFlHQANlU67w8kdA7Eyh8xqfSEDoNXaJ6kFJQG4Sg8DK3UlAasGLvoJ4SkCS0JZzKfJKQCBGCI82iktAREyJJHodTEAkfzDw3J9MQKOqCaLuJ01AtmJ/2T3VTUA/AKlNnIBOQCDSb18HSk9AqB3+mqwXUEDhehSuR4NQQGFPO/w151BABP9byY5PUUA6OxkcJblRQDBkdavnFlJABW7dzVNzUkBQ5EnSNcVSQAMJih9jEFNAweeHEcJxU0CeQUP/BN1TQORmuAGfPVRAILWJk/uLVECXbhKDwOxUQD8djxmoRlVAqJGWytunVUC4QILixxJWQBpR2ht8i1ZAP8bctYQCV0CO5PIf0nlXQGh+NQcI6FdAIV7XL9hnWECWz/I8uOFYQPdT46WbWllASS7/If3MWUDYEvJBz0RaQN1Zu+1CsVpAaYzWUdUeW0A82jhiLYhbQB0Wak3z9FtAUd8yp8tUXEAuBDkoYbBcQGr7V1aaCl1APdAKDFlHXUBRiIBDqIhdQOUK73IR0V1ApaDbSxoNXkDNO07RkTxeQFZNEHUfVF5AONbFbTR8XkDamULnNaJeQIyJzce1vV5AqTC2EOTUXkD8V1aalPJeQOV5cHfWAl9AtvgUAOMdX0D8GHPXEjpfQOxMofMaR19AcuFASBZoX0AT8kHPZnVfQG+BBMWPeV9Ady0hH/SMX0AGgZVDi6RfQKXfvg6cu19AHOviNhrgX0ARx7q4jQpgQDm0yHa+K2BAjNtoAG9VYEA=",
          "dtype": "f8"
         },
         "yaxis": "y"
        },
        {
         "line": {
          "color": "blue"
         },
         "name": "MACD",
         "type": "scatter",
         "x": [
          "2022-12-12T05:00:00+00:00",
          "2022-12-19T05:00:00+00:00",
          "2022-12-26T05:00:00+00:00",
          "2023-01-02T05:00:00+00:00",
          "2023-01-09T05:00:00+00:00",
          "2023-01-16T05:00:00+00:00",
          "2023-01-23T05:00:00+00:00",
          "2023-01-30T05:00:00+00:00",
          "2023-02-06T05:00:00+00:00",
          "2023-02-13T05:00:00+00:00",
          "2023-02-20T05:00:00+00:00",
          "2023-02-27T05:00:00+00:00",
          "2023-03-06T05:00:00+00:00",
          "2023-03-13T04:00:00+00:00",
          "2023-03-20T04:00:00+00:00",
          "2023-03-27T04:00:00+00:00",
          "2023-04-03T04:00:00+00:00",
          "2023-04-10T04:00:00+00:00",
          "2023-04-17T04:00:00+00:00",
          "2023-04-24T04:00:00+00:00",
          "2023-05-01T04:00:00+00:00",
          "2023-05-08T04:00:00+00:00",
          "2023-05-15T04:00:00+00:00",
          "2023-05-22T04:00:00+00:00",
          "2023-05-29T04:00:00+00:00",
          "2023-06-05T04:00:00+00:00",
          "2023-06-12T04:00:00+00:00",
          "2023-06-19T04:00:00+00:00",
          "2023-06-26T04:00:00+00:00",
          "2023-07-03T04:00:00+00:00",
          "2023-07-10T04:00:00+00:00",
          "2023-07-17T04:00:00+00:00",
          "2023-07-24T04:00:00+00:00",
          "2023-07-31T04:00:00+00:00",
          "2023-08-07T04:00:00+00:00",
          "2023-08-14T04:00:00+00:00",
          "2023-08-21T04:00:00+00:00",
          "2023-08-28T04:00:00+00:00",
          "2023-09-04T04:00:00+00:00",
          "2023-09-11T04:00:00+00:00",
          "2023-09-18T04:00:00+00:00",
          "2023-09-25T04:00:00+00:00",
          "2023-10-02T04:00:00+00:00",
          "2023-10-09T04:00:00+00:00",
          "2023-10-16T04:00:00+00:00",
          "2023-10-23T04:00:00+00:00",
          "2023-10-30T04:00:00+00:00",
          "2023-11-06T05:00:00+00:00",
          "2023-11-13T05:00:00+00:00",
          "2023-11-20T05:00:00+00:00",
          "2023-11-27T05:00:00+00:00",
          "2023-12-04T05:00:00+00:00",
          "2023-12-11T05:00:00+00:00",
          "2023-12-18T05:00:00+00:00",
          "2023-12-25T05:00:00+00:00",
          "2024-01-01T05:00:00+00:00",
          "2024-01-08T05:00:00+00:00",
          "2024-01-15T05:00:00+00:00",
          "2024-01-22T05:00:00+00:00",
          "2024-01-29T05:00:00+00:00",
          "2024-02-05T05:00:00+00:00",
          "2024-02-12T05:00:00+00:00",
          "2024-02-19T05:00:00+00:00",
          "2024-02-26T05:00:00+00:00",
          "2024-03-04T05:00:00+00:00",
          "2024-03-11T04:00:00+00:00",
          "2024-03-18T04:00:00+00:00",
          "2024-03-25T04:00:00+00:00",
          "2024-04-01T04:00:00+00:00",
          "2024-04-08T04:00:00+00:00",
          "2024-04-15T04:00:00+00:00",
          "2024-04-22T04:00:00+00:00",
          "2024-04-29T04:00:00+00:00",
          "2024-05-06T04:00:00+00:00",
          "2024-05-13T04:00:00+00:00",
          "2024-05-20T04:00:00+00:00",
          "2024-05-27T04:00:00+00:00",
          "2024-06-03T04:00:00+00:00",
          "2024-06-10T04:00:00+00:00",
          "2024-06-17T04:00:00+00:00",
          "2024-06-24T04:00:00+00:00",
          "2024-07-01T04:00:00+00:00",
          "2024-07-08T04:00:00+00:00",
          "2024-07-15T04:00:00+00:00",
          "2024-07-22T04:00:00+00:00",
          "2024-07-29T04:00:00+00:00",
          "2024-08-05T04:00:00+00:00",
          "2024-08-12T04:00:00+00:00",
          "2024-08-19T04:00:00+00:00",
          "2024-08-26T04:00:00+00:00",
          "2024-09-02T04:00:00+00:00",
          "2024-09-09T04:00:00+00:00",
          "2024-09-16T04:00:00+00:00",
          "2024-09-23T04:00:00+00:00",
          "2024-09-30T04:00:00+00:00",
          "2024-10-07T04:00:00+00:00",
          "2024-10-14T04:00:00+00:00",
          "2024-10-21T04:00:00+00:00",
          "2024-10-28T04:00:00+00:00",
          "2024-11-04T05:00:00+00:00",
          "2024-11-11T05:00:00+00:00",
          "2024-11-18T05:00:00+00:00",
          "2024-11-25T05:00:00+00:00",
          "2024-12-02T05:00:00+00:00",
          "2024-12-09T05:00:00+00:00",
          "2024-12-16T05:00:00+00:00",
          "2024-12-23T05:00:00+00:00",
          "2024-12-30T05:00:00+00:00",
          "2025-01-06T05:00:00+00:00",
          "2025-01-13T05:00:00+00:00",
          "2025-01-20T05:00:00+00:00",
          "2025-01-27T05:00:00+00:00",
          "2025-02-03T05:00:00+00:00",
          "2025-02-10T05:00:00+00:00",
          "2025-02-17T05:00:00+00:00",
          "2025-02-24T05:00:00+00:00",
          "2025-03-03T05:00:00+00:00",
          "2025-03-10T04:00:00+00:00",
          "2025-03-17T04:00:00+00:00",
          "2025-03-24T04:00:00+00:00",
          "2025-03-31T04:00:00+00:00",
          "2025-04-07T04:00:00+00:00",
          "2025-04-14T04:00:00+00:00",
          "2025-04-21T04:00:00+00:00",
          "2025-04-28T04:00:00+00:00",
          "2025-05-05T04:00:00+00:00",
          "2025-05-12T04:00:00+00:00",
          "2025-05-19T04:00:00+00:00",
          "2025-05-26T04:00:00+00:00",
          "2025-06-02T04:00:00+00:00",
          "2025-06-09T04:00:00+00:00",
          "2025-06-16T04:00:00+00:00",
          "2025-06-23T04:00:00+00:00",
          "2025-06-30T04:00:00+00:00",
          "2025-07-07T04:00:00+00:00",
          "2025-07-14T04:00:00+00:00"
         ],
         "xaxis": "x2",
         "y": {
          "bdata": "0MF8wYY24b+ACvS54sXgv1CJH6iRv+G/YJSFNE6v4b8AfvKCsHPYvwACfHURpMW/ALfOWhTCyT/gMRHZwIbhP2B40b0ib+o/sPX9u4K28D8g2RdgFa/1P9ChXEc1Gvo/APQCoQYW/D+4Mnm84msAQDDLl+g1xQJAaPibzJ4IBUBIcR5+UBgGQGg+7b4jfwZAMC+HFQzJBkBQLbhVZycHQJA1QqDhxQdAAM3DoyTFB0Cw4cjy61wJQDhMBipyOQ9AKM2RcBzaEUCIQU0txDkTQJClZ+iQVRVA9KKllsqWFkDMZBTjKFgXQEBkc0j5uxdAIE5dXTe3GEBAbS97MtUYQPA0HAijaxlAyHBVEkDuGECIWdZX1AoXQLBeHfp/FBZA8F7cVDLxFUDA5NJJAWEWQGgw/CBnhxVAiLpUXocVFEDYcTUOFv4RQIASsxJlwBBA+DScQHpPEEAwVjQhrV0PQHAMbJPfbAtAwLqOI5R1B0AwqcQ0rfUGQCC+TOeEbghA8N+0adHrCUDAhwXSR9IJQBBujXrFzQhAkLWdxF0yCEBQFmiqIFQIQODfIfLMHQhAMLI8Ke8dCECgmI9BP5IHQHBcyZoNdQpAcEK2lsp3D0CQgcDMSQISQEBaQbACORVAyK/iyJdnGUDwdod9doscQOzuokJkVCBAHCa84sZOIkBYgSxRfnwkQBS3WOBIAiZA+G+LfQL7J0Dwc9NG2p8oQMDC2aNDeShAaGgn9+YaKEB4Q5GvGaElQEhwAf+OSCVA4AYHMCXwJECQKigIRZokQNBs2LEdhSRAWPHObBN0JkDwLc+JljcoQCiXQLFgHitAkICUayvWLkB8dAqMhEYwQISeZjEUhTBARPNIOqq0MEB0Z70w2e4wQNQ9IpoQBDBAmILALOFzLUAA1tCsLiwqQDC3a/UE5yZA8GlC7Do+J0Do8a1kYwIoQCD67ZOYvSZAaJWp5zzZIkBQdVDHJS4iQLDloxBz9CBAMK2dv8OpIEBgqhMYaM4gQBDMdsWdTSJAQBpNLSfHI0BA/q1Y1EUlQJA58/7OOCVAwMhRUjXkJkBgToOXhAknQChXS89Q4iZA8MUCULjpJUAYrgMCKJIlQOAdcHIdwCNA0IPtML4rIkCIG52PQxghQBCaVnpAPyFAgN/s37mbH0DgJwXyu48dQAB0VNgJMB1AQA7l8uBdFUAglKR4+hwSQEDsJxGTOxJAAFSimUy1EEAAYnNt45MIQICDiba0IvM/APLYNvxv2z8AQDy7vZ3fvwD4rkM+of2/8GUhzsp6EMCAJTX4sBgSwID6HHBMKxbA8J/B6NIRFsBQaBKwZKAUwECAgtsmkxLAIFFU7aWLBcCAlfduFGX3vwCATcBWXca/wM9SoFbJ9T8AgEEM8Y4EQMANXaOjGA1A4PjLqoopFkAAqyeY72EcQLAC0/5FWyFAkOStrGjVJEA=",
          "dtype": "f8"
         },
         "yaxis": "y2"
        },
        {
         "line": {
          "color": "red"
         },
         "name": "MACD Signal",
         "type": "scatter",
         "x": [
          "2022-12-12T05:00:00+00:00",
          "2022-12-19T05:00:00+00:00",
          "2022-12-26T05:00:00+00:00",
          "2023-01-02T05:00:00+00:00",
          "2023-01-09T05:00:00+00:00",
          "2023-01-16T05:00:00+00:00",
          "2023-01-23T05:00:00+00:00",
          "2023-01-30T05:00:00+00:00",
          "2023-02-06T05:00:00+00:00",
          "2023-02-13T05:00:00+00:00",
          "2023-02-20T05:00:00+00:00",
          "2023-02-27T05:00:00+00:00",
          "2023-03-06T05:00:00+00:00",
          "2023-03-13T04:00:00+00:00",
          "2023-03-20T04:00:00+00:00",
          "2023-03-27T04:00:00+00:00",
          "2023-04-03T04:00:00+00:00",
          "2023-04-10T04:00:00+00:00",
          "2023-04-17T04:00:00+00:00",
          "2023-04-24T04:00:00+00:00",
          "2023-05-01T04:00:00+00:00",
          "2023-05-08T04:00:00+00:00",
          "2023-05-15T04:00:00+00:00",
          "2023-05-22T04:00:00+00:00",
          "2023-05-29T04:00:00+00:00",
          "2023-06-05T04:00:00+00:00",
          "2023-06-12T04:00:00+00:00",
          "2023-06-19T04:00:00+00:00",
          "2023-06-26T04:00:00+00:00",
          "2023-07-03T04:00:00+00:00",
          "2023-07-10T04:00:00+00:00",
          "2023-07-17T04:00:00+00:00",
          "2023-07-24T04:00:00+00:00",
          "2023-07-31T04:00:00+00:00",
          "2023-08-07T04:00:00+00:00",
          "2023-08-14T04:00:00+00:00",
          "2023-08-21T04:00:00+00:00",
          "2023-08-28T04:00:00+00:00",
          "2023-09-04T04:00:00+00:00",
          "2023-09-11T04:00:00+00:00",
          "2023-09-18T04:00:00+00:00",
          "2023-09-25T04:00:00+00:00",
          "2023-10-02T04:00:00+00:00",
          "2023-10-09T04:00:00+00:00",
          "2023-10-16T04:00:00+00:00",
          "2023-10-23T04:00:00+00:00",
          "2023-10-30T04:00:00+00:00",
          "2023-11-06T05:00:00+00:00",
          "2023-11-13T05:00:00+00:00",
          "2023-11-20T05:00:00+00:00",
          "2023-11-27T05:00:00+00:00",
          "2023-12-04T05:00:00+00:00",
          "2023-12-11T05:00:00+00:00",
          "2023-12-18T05:00:00+00:00",
          "2023-12-25T05:00:00+00:00",
          "2024-01-01T05:00:00+00:00",
          "2024-01-08T05:00:00+00:00",
          "2024-01-15T05:00:00+00:00",
          "2024-01-22T05:00:00+00:00",
          "2024-01-29T05:00:00+00:00",
          "2024-02-05T05:00:00+00:00",
          "2024-02-12T05:00:00+00:00",
          "2024-02-19T05:00:00+00:00",
          "2024-02-26T05:00:00+00:00",
          "2024-03-04T05:00:00+00:00",
          "2024-03-11T04:00:00+00:00",
          "2024-03-18T04:00:00+00:00",
          "2024-03-25T04:00:00+00:00",
          "2024-04-01T04:00:00+00:00",
          "2024-04-08T04:00:00+00:00",
          "2024-04-15T04:00:00+00:00",
          "2024-04-22T04:00:00+00:00",
          "2024-04-29T04:00:00+00:00",
          "2024-05-06T04:00:00+00:00",
          "2024-05-13T04:00:00+00:00",
          "2024-05-20T04:00:00+00:00",
          "2024-05-27T04:00:00+00:00",
          "2024-06-03T04:00:00+00:00",
          "2024-06-10T04:00:00+00:00",
          "2024-06-17T04:00:00+00:00",
          "2024-06-24T04:00:00+00:00",
          "2024-07-01T04:00:00+00:00",
          "2024-07-08T04:00:00+00:00",
          "2024-07-15T04:00:00+00:00",
          "2024-07-22T04:00:00+00:00",
          "2024-07-29T04:00:00+00:00",
          "2024-08-05T04:00:00+00:00",
          "2024-08-12T04:00:00+00:00",
          "2024-08-19T04:00:00+00:00",
          "2024-08-26T04:00:00+00:00",
          "2024-09-02T04:00:00+00:00",
          "2024-09-09T04:00:00+00:00",
          "2024-09-16T04:00:00+00:00",
          "2024-09-23T04:00:00+00:00",
          "2024-09-30T04:00:00+00:00",
          "2024-10-07T04:00:00+00:00",
          "2024-10-14T04:00:00+00:00",
          "2024-10-21T04:00:00+00:00",
          "2024-10-28T04:00:00+00:00",
          "2024-11-04T05:00:00+00:00",
          "2024-11-11T05:00:00+00:00",
          "2024-11-18T05:00:00+00:00",
          "2024-11-25T05:00:00+00:00",
          "2024-12-02T05:00:00+00:00",
          "2024-12-09T05:00:00+00:00",
          "2024-12-16T05:00:00+00:00",
          "2024-12-23T05:00:00+00:00",
          "2024-12-30T05:00:00+00:00",
          "2025-01-06T05:00:00+00:00",
          "2025-01-13T05:00:00+00:00",
          "2025-01-20T05:00:00+00:00",
          "2025-01-27T05:00:00+00:00",
          "2025-02-03T05:00:00+00:00",
          "2025-02-10T05:00:00+00:00",
          "2025-02-17T05:00:00+00:00",
          "2025-02-24T05:00:00+00:00",
          "2025-03-03T05:00:00+00:00",
          "2025-03-10T04:00:00+00:00",
          "2025-03-17T04:00:00+00:00",
          "2025-03-24T04:00:00+00:00",
          "2025-03-31T04:00:00+00:00",
          "2025-04-07T04:00:00+00:00",
          "2025-04-14T04:00:00+00:00",
          "2025-04-21T04:00:00+00:00",
          "2025-04-28T04:00:00+00:00",
          "2025-05-05T04:00:00+00:00",
          "2025-05-12T04:00:00+00:00",
          "2025-05-19T04:00:00+00:00",
          "2025-05-26T04:00:00+00:00",
          "2025-06-02T04:00:00+00:00",
          "2025-06-09T04:00:00+00:00",
          "2025-06-16T04:00:00+00:00",
          "2025-06-23T04:00:00+00:00",
          "2025-06-30T04:00:00+00:00",
          "2025-07-07T04:00:00+00:00",
          "2025-07-14T04:00:00+00:00"
         ],
         "xaxis": "x2",
         "y": {
          "bdata": "BDCEXwzF879D9M4rOn7xv68I65rgie+/bPEJIJDE7L8kNCCNnnXpv532X1AZc+W/4hG4qlm+37/CYIz+YGLSv9RBpcv+iLC/+KG6QWsgxD9Ku12a1WXZPz4l5POdmeQ/zOXqaee26z8CPVsPhKfxPxWCUmmyofU/bsvmcgG4+T8P0MT0umn9P+iS5FS4QwBAXeXR4ZWRAUBbjZmSjK8CQJlIu/sDtANA4S/wtj2EBEA+ILWPYHwFQAopkq79bgdAsj+vuDzjCUCSs0QMf2YMQHtrYAAGQQ9AlUvht/cEEUAHtx5azkgSQHmmL/DWXxNAaC6fn1BxFEAtbiJlF1IVQLtiVB8AJBZAvphUttmyFkC0JQg9csQWQICXP8lBoRZA/VjFfgt+FkAkqGGnPHgWQJj25vIRSBZAyB0w1Y/XFUCYLjF6dxIVQGCPsZhANRRAf7ATh7JtE0AEyWHv7K0SQELVpbSgrxFA4lZ5+qh+EEAN4E+byvsOQHgMHERWrA1A92kHsjvsDECGCQdScU0MQAiEu/NOmgtAJMHog+vrCkD6nmhYKWcKQPWrjd0W8glAmxMXU3WUCUAD+/u1nS0JQLNBWH0abwlApg5rggqkCkC/cm/tJYQMQEzmDJ5STQ9AR38yNAyaEUCcfUOpVMoTQA/EEKI4XRZAfhK/QuM2GUDvqKoitV0cQGHQeHUUfx9Av2l/rghlIUDJa8OZMtciQGGwlGic9yNAYwiyHnjLJEBnR3gIMvYkQPu1kwarBiVAKcaq2ykCJUCkQCp+Yu0kQOCv5u6H2CRAXyMVCNcqJUCwWDpV/cYlQPsx1Zp32CZATNthkZtxKEBvRB95sRAqQPRCdUHJdStA35YUsn6mLECuO1wIibEtQHpIJBFBKS5ATYdDsPoELkDYY/kVBUAtQLendg8F+ytAKWifO3YIK0Ac6juqpW0qQOqGXz/WsClAN/AHYYRSKEA8cRYPCxgnQFRVzHW53SVA52YpHlXTJEDM2vEcjAUkQHRxDKWPrSNAasZ/862yI0Ava+86TwMkQHaUVpU1QSRAhTjvhzXIJECxCUC+qzslQDAZDygzkCVAighzlhqiJUBAw1wS6p4lQMc7+osnPyVA/BZeE6yhJEBMfjcsl+wjQEDqcNWFYyNAjZ6Lp/2rIkDUAj0exOQhQBBBORTROyFA9GqJ6uHYH0CX2Y6gsxkdQFPdE7dG7RpAdlswsRTiGEAsBn/lQF0WQB3lUloj2RJA1afjEdLXDkBEntQcUOIHQDfMSxDtJABA/oMjt0tL6T/RpNeOI3DRv13p2w8ROfW/htAL/SdRAcDyNneqrhoGwNz4+awBHQnAUNfYuVVmCMBnbvnS+dsFwFNQlfFYxAHAkvB3YuMR+L+DGiX6qhDmv5A95oPof8Y/qDM6/NL68z+q8vPUTVgDQBWRBUN2XA1AqMhHxvITFEA=",
          "dtype": "f8"
         },
         "yaxis": "y2"
        },
        {
         "marker": {
          "color": [
           "green",
           "green",
           "green",
           "green",
           "green",
           "green",
           "green",
           "green",
           "green",
           "green",
           "green",
           "green",
           "green",
           "green",
           "green",
           "green",
           "green",
           "green",
           "green",
           "green",
           "green",
           "green",
           "green",
           "green",
           "green",
           "green",
           "green",
           "green",
           "green",
           "green",
           "green",
           "green",
           "green",
           "green",
           "green",
           "red",
           "red",
           "red",
           "red",
           "red",
           "red",
           "red",
           "red",
           "red",
           "red",
           "red",
           "red",
           "red",
           "red",
           "red",
           "red",
           "red",
           "red",
           "red",
           "red",
           "red",
           "green",
           "green",
           "green",
           "green",
           "green",
           "green",
           "green",
           "green",
           "green",
           "green",
           "green",
           "green",
           "green",
           "green",
           "green",
           "green",
           "red",
           "red",
           "red",
           "green",
           "green",
           "green",
           "green",
           "green",
           "green",
           "green",
           "green",
           "green",
           "red",
           "red",
           "red",
           "red",
           "red",
           "red",
           "red",
           "red",
           "red",
           "red",
           "red",
           "red",
           "green",
           "green",
           "green",
           "green",
           "green",
           "green",
           "green",
           "red",
           "red",
           "red",
           "red",
           "red",
           "red",
           "red",
           "red",
           "red",
           "red",
           "red",
           "red",
           "red",
           "red",
           "red",
           "red",
           "red",
           "red",
           "red",
           "red",
           "red",
           "red",
           "red",
           "green",
           "green",
           "green",
           "green",
           "green",
           "green",
           "green",
           "green",
           "green",
           "green"
          ]
         },
         "name": "MACD Histogram",
         "showlegend": true,
         "type": "bar",
         "x": [
          "2022-12-12T05:00:00+00:00",
          "2022-12-19T05:00:00+00:00",
          "2022-12-26T05:00:00+00:00",
          "2023-01-02T05:00:00+00:00",
          "2023-01-09T05:00:00+00:00",
          "2023-01-16T05:00:00+00:00",
          "2023-01-23T05:00:00+00:00",
          "2023-01-30T05:00:00+00:00",
          "2023-02-06T05:00:00+00:00",
          "2023-02-13T05:00:00+00:00",
          "2023-02-20T05:00:00+00:00",
          "2023-02-27T05:00:00+00:00",
          "2023-03-06T05:00:00+00:00",
          "2023-03-13T04:00:00+00:00",
          "2023-03-20T04:00:00+00:00",
          "2023-03-27T04:00:00+00:00",
          "2023-04-03T04:00:00+00:00",
          "2023-04-10T04:00:00+00:00",
          "2023-04-17T04:00:00+00:00",
          "2023-04-24T04:00:00+00:00",
          "2023-05-01T04:00:00+00:00",
          "2023-05-08T04:00:00+00:00",
          "2023-05-15T04:00:00+00:00",
          "2023-05-22T04:00:00+00:00",
          "2023-05-29T04:00:00+00:00",
          "2023-06-05T04:00:00+00:00",
          "2023-06-12T04:00:00+00:00",
          "2023-06-19T04:00:00+00:00",
          "2023-06-26T04:00:00+00:00",
          "2023-07-03T04:00:00+00:00",
          "2023-07-10T04:00:00+00:00",
          "2023-07-17T04:00:00+00:00",
          "2023-07-24T04:00:00+00:00",
          "2023-07-31T04:00:00+00:00",
          "2023-08-07T04:00:00+00:00",
          "2023-08-14T04:00:00+00:00",
          "2023-08-21T04:00:00+00:00",
          "2023-08-28T04:00:00+00:00",
          "2023-09-04T04:00:00+00:00",
          "2023-09-11T04:00:00+00:00",
          "2023-09-18T04:00:00+00:00",
          "2023-09-25T04:00:00+00:00",
          "2023-10-02T04:00:00+00:00",
          "2023-10-09T04:00:00+00:00",
          "2023-10-16T04:00:00+00:00",
          "2023-10-23T04:00:00+00:00",
          "2023-10-30T04:00:00+00:00",
          "2023-11-06T05:00:00+00:00",
          "2023-11-13T05:00:00+00:00",
          "2023-11-20T05:00:00+00:00",
          "2023-11-27T05:00:00+00:00",
          "2023-12-04T05:00:00+00:00",
          "2023-12-11T05:00:00+00:00",
          "2023-12-18T05:00:00+00:00",
          "2023-12-25T05:00:00+00:00",
          "2024-01-01T05:00:00+00:00",
          "2024-01-08T05:00:00+00:00",
          "2024-01-15T05:00:00+00:00",
          "2024-01-22T05:00:00+00:00",
          "2024-01-29T05:00:00+00:00",
          "2024-02-05T05:00:00+00:00",
          "2024-02-12T05:00:00+00:00",
          "2024-02-19T05:00:00+00:00",
          "2024-02-26T05:00:00+00:00",
          "2024-03-04T05:00:00+00:00",
          "2024-03-11T04:00:00+00:00",
          "2024-03-18T04:00:00+00:00",
          "2024-03-25T04:00:00+00:00",
          "2024-04-01T04:00:00+00:00",
          "2024-04-08T04:00:00+00:00",
          "2024-04-15T04:00:00+00:00",
          "2024-04-22T04:00:00+00:00",
          "2024-04-29T04:00:00+00:00",
          "2024-05-06T04:00:00+00:00",
          "2024-05-13T04:00:00+00:00",
          "2024-05-20T04:00:00+00:00",
          "2024-05-27T04:00:00+00:00",
          "2024-06-03T04:00:00+00:00",
          "2024-06-10T04:00:00+00:00",
          "2024-06-17T04:00:00+00:00",
          "2024-06-24T04:00:00+00:00",
          "2024-07-01T04:00:00+00:00",
          "2024-07-08T04:00:00+00:00",
          "2024-07-15T04:00:00+00:00",
          "2024-07-22T04:00:00+00:00",
          "2024-07-29T04:00:00+00:00",
          "2024-08-05T04:00:00+00:00",
          "2024-08-12T04:00:00+00:00",
          "2024-08-19T04:00:00+00:00",
          "2024-08-26T04:00:00+00:00",
          "2024-09-02T04:00:00+00:00",
          "2024-09-09T04:00:00+00:00",
          "2024-09-16T04:00:00+00:00",
          "2024-09-23T04:00:00+00:00",
          "2024-09-30T04:00:00+00:00",
          "2024-10-07T04:00:00+00:00",
          "2024-10-14T04:00:00+00:00",
          "2024-10-21T04:00:00+00:00",
          "2024-10-28T04:00:00+00:00",
          "2024-11-04T05:00:00+00:00",
          "2024-11-11T05:00:00+00:00",
          "2024-11-18T05:00:00+00:00",
          "2024-11-25T05:00:00+00:00",
          "2024-12-02T05:00:00+00:00",
          "2024-12-09T05:00:00+00:00",
          "2024-12-16T05:00:00+00:00",
          "2024-12-23T05:00:00+00:00",
          "2024-12-30T05:00:00+00:00",
          "2025-01-06T05:00:00+00:00",
          "2025-01-13T05:00:00+00:00",
          "2025-01-20T05:00:00+00:00",
          "2025-01-27T05:00:00+00:00",
          "2025-02-03T05:00:00+00:00",
          "2025-02-10T05:00:00+00:00",
          "2025-02-17T05:00:00+00:00",
          "2025-02-24T05:00:00+00:00",
          "2025-03-03T05:00:00+00:00",
          "2025-03-10T04:00:00+00:00",
          "2025-03-17T04:00:00+00:00",
          "2025-03-24T04:00:00+00:00",
          "2025-03-31T04:00:00+00:00",
          "2025-04-07T04:00:00+00:00",
          "2025-04-14T04:00:00+00:00",
          "2025-04-21T04:00:00+00:00",
          "2025-04-28T04:00:00+00:00",
          "2025-05-05T04:00:00+00:00",
          "2025-05-12T04:00:00+00:00",
          "2025-05-19T04:00:00+00:00",
          "2025-05-26T04:00:00+00:00",
          "2025-06-02T04:00:00+00:00",
          "2025-06-09T04:00:00+00:00",
          "2025-06-16T04:00:00+00:00",
          "2025-06-23T04:00:00+00:00",
          "2025-06-30T04:00:00+00:00",
          "2025-07-07T04:00:00+00:00",
          "2025-07-14T04:00:00+00:00"
         ],
         "xaxis": "x2",
         "y": {
          "bdata": "OJ6L/ZFT5j8G3qmdkTbiP77+luWdlNs/GLoI14Mq1j9I6k2XjHfaPx32APMUCuA/sbYP7LFP5j9BYldY8bfqP5ogRpdCgOw/4kKNp+pk7D+b1ADzP6vuP2Ie1ZrMmu8/NAIb2CV17D/cUC7TgmDuP5Yous9y0e8/YiVRJjxZ8D8CJfAOzI3tPwCuIqit7eg/TCfVztjd5D/Uf3oMa9/hP9yzG5J2R+A/+OicZjcH2j+QC54YWwTfP7iM0O3RKe8/PLXoUPih8z/8nqucEhr0P0q/3aA31PY/fF0Re0tH9j8Ut9Yjaj30Pxz3DmGJcPE/4H749poX8T+Y+Gew2BjsP6iRPkYXPeo/UMAG4DLb4T8A9YyzhpixPwAaR+Q5mMG/oEEfPSWbwb8AZMOOXTuXvwDGWD1aFci/ADS2bYcg3L8A5t1fC6PovwDn8y/cpuu/ONy7M8Lx6L9g7zz2svjnv1B4fleHye+/CObHonsP87+6bRbNOgzwv2A5PXNF9+S/OFCUQlID2L8wDgwATNnTv8CvcMlLZNa/oFxY+m3M1b9QRQRwRZjQv1DBvLaeRM2/sBamnWJox78wJsZG57XJv9CrEdcxX8A/KM8sUQBP4z+EQUawtgHuP2ic64RlSfY/BMLAUi42/z+o8oeoQ4IBQJIzasYflwRAdHNyBVXNBkCCs1z/jjYJQI47cZb6CglA5BgwPOdXCkCcIEC0niIHQHxJFO2cBgJAKACrw3Z7+j8ggh/j9FzVP0CTbhv+eMA/AEm/o6sEor8AhYWAXcfEvwDEkEOP2sS/kN+cS8aT5D8AqqakyYTzP7SUrVmkFwFAEJXKaD+SCUAkktZ7XvEJQFDoX4V8UQZApD71CVcLA0DoTHpkpbAAQOAyAzIC7u0/oJZgcDAj0r/AbkRJs574vxzCK2gAUATAyPHnetpR/r+gwW8sElrzv1BmjFvtmfe/PGt55R3lBcCw7xcflacDwJC+oZQZpQPA3OYuekWmAMBgg/EmILn5v0BWWvkd/+W/ANZTzTl5pD8QMenbUSjkP0CjlDMt894/2IEUU/7f8D/wSjSUjd3sP4Dfw3PaIeU/gFnvY27nwT8AUCqyIISZv3DeoZih8Oe/YJmEE2+v878gFtPknKL2v4CB0tgqIvG/aHapvAXx9r8gd9MpMef4v4A4eEBhHvW/aLlI7wH2BMDuitRPcvkFwCbi10tnYwHA7A4cL5BZAMBYqopdniYEwHoIYVnsIAzAlYkIi9JpC8BEJjzUB9YLwDdIIzKM9Q7AcNYFRTSkE8Azq0e/rgERwCkAJiwI3RDAWm931H3SCsCuma21GiYDwEgPFhSYEvi/gDEkZH7V1j9OR/s231L0P1N4kIWDXgBAKWBlAZ3tBkChxsrKGxMKQOepHhulsAtA9mu969UqEUCrsa2tyLUSQNY8I9xQCBRAeAAUk96WFUA=",
          "dtype": "f8"
         },
         "yaxis": "y2"
        },
        {
         "marker": {
          "color": [
           "red",
           "red",
           "red",
           "green",
           "green",
           "green",
           "green",
           "green",
           "green",
           "red",
           "green",
           "green",
           "red",
           "green",
           "green",
           "green",
           "red",
           "red",
           "green",
           "green",
           "green",
           "red",
           "green",
           "green",
           "red",
           "red",
           "green",
           "red",
           "red",
           "red",
           "green",
           "red",
           "green",
           "red",
           "red",
           "green",
           "green",
           "green",
           "red",
           "red",
           "red",
           "green",
           "green",
           "green",
           "red",
           "red",
           "green",
           "green",
           "green",
           "red",
           "red",
           "green",
           "green",
           "red",
           "green",
           "red",
           "green",
           "green",
           "green",
           "green",
           "green",
           "green",
           "green",
           "green",
           "green",
           "green",
           "green",
           "red",
           "red",
           "red",
           "red",
           "green",
           "green",
           "green",
           "green",
           "green",
           "red",
           "green",
           "green",
           "red",
           "green",
           "green",
           "green",
           "red",
           "red",
           "red",
           "green",
           "green",
           "green",
           "red",
           "red",
           "green",
           "red",
           "green",
           "green",
           "green",
           "green",
           "green",
           "red",
           "green",
           "red",
           "green",
           "red",
           "green",
           "red",
           "green",
           "green",
           "green",
           "red",
           "green",
           "green",
           "red",
           "green",
           "green",
           "red",
           "red",
           "red",
           "green",
           "red",
           "red",
           "red",
           "green",
           "red",
           "green",
           "green",
           "green",
           "green",
           "red",
           "green",
           "green",
           "red",
           "green",
           "green",
           "green",
           "green",
           "green"
          ]
         },
         "name": "Volume",
         "showlegend": true,
         "type": "bar",
         "x": [
          "2022-12-12T05:00:00+00:00",
          "2022-12-19T05:00:00+00:00",
          "2022-12-26T05:00:00+00:00",
          "2023-01-02T05:00:00+00:00",
          "2023-01-09T05:00:00+00:00",
          "2023-01-16T05:00:00+00:00",
          "2023-01-23T05:00:00+00:00",
          "2023-01-30T05:00:00+00:00",
          "2023-02-06T05:00:00+00:00",
          "2023-02-13T05:00:00+00:00",
          "2023-02-20T05:00:00+00:00",
          "2023-02-27T05:00:00+00:00",
          "2023-03-06T05:00:00+00:00",
          "2023-03-13T04:00:00+00:00",
          "2023-03-20T04:00:00+00:00",
          "2023-03-27T04:00:00+00:00",
          "2023-04-03T04:00:00+00:00",
          "2023-04-10T04:00:00+00:00",
          "2023-04-17T04:00:00+00:00",
          "2023-04-24T04:00:00+00:00",
          "2023-05-01T04:00:00+00:00",
          "2023-05-08T04:00:00+00:00",
          "2023-05-15T04:00:00+00:00",
          "2023-05-22T04:00:00+00:00",
          "2023-05-29T04:00:00+00:00",
          "2023-06-05T04:00:00+00:00",
          "2023-06-12T04:00:00+00:00",
          "2023-06-19T04:00:00+00:00",
          "2023-06-26T04:00:00+00:00",
          "2023-07-03T04:00:00+00:00",
          "2023-07-10T04:00:00+00:00",
          "2023-07-17T04:00:00+00:00",
          "2023-07-24T04:00:00+00:00",
          "2023-07-31T04:00:00+00:00",
          "2023-08-07T04:00:00+00:00",
          "2023-08-14T04:00:00+00:00",
          "2023-08-21T04:00:00+00:00",
          "2023-08-28T04:00:00+00:00",
          "2023-09-04T04:00:00+00:00",
          "2023-09-11T04:00:00+00:00",
          "2023-09-18T04:00:00+00:00",
          "2023-09-25T04:00:00+00:00",
          "2023-10-02T04:00:00+00:00",
          "2023-10-09T04:00:00+00:00",
          "2023-10-16T04:00:00+00:00",
          "2023-10-23T04:00:00+00:00",
          "2023-10-30T04:00:00+00:00",
          "2023-11-06T05:00:00+00:00",
          "2023-11-13T05:00:00+00:00",
          "2023-11-20T05:00:00+00:00",
          "2023-11-27T05:00:00+00:00",
          "2023-12-04T05:00:00+00:00",
          "2023-12-11T05:00:00+00:00",
          "2023-12-18T05:00:00+00:00",
          "2023-12-25T05:00:00+00:00",
          "2024-01-01T05:00:00+00:00",
          "2024-01-08T05:00:00+00:00",
          "2024-01-15T05:00:00+00:00",
          "2024-01-22T05:00:00+00:00",
          "2024-01-29T05:00:00+00:00",
          "2024-02-05T05:00:00+00:00",
          "2024-02-12T05:00:00+00:00",
          "2024-02-19T05:00:00+00:00",
          "2024-02-26T05:00:00+00:00",
          "2024-03-04T05:00:00+00:00",
          "2024-03-11T04:00:00+00:00",
          "2024-03-18T04:00:00+00:00",
          "2024-03-25T04:00:00+00:00",
          "2024-04-01T04:00:00+00:00",
          "2024-04-08T04:00:00+00:00",
          "2024-04-15T04:00:00+00:00",
          "2024-04-22T04:00:00+00:00",
          "2024-04-29T04:00:00+00:00",
          "2024-05-06T04:00:00+00:00",
          "2024-05-13T04:00:00+00:00",
          "2024-05-20T04:00:00+00:00",
          "2024-05-27T04:00:00+00:00",
          "2024-06-03T04:00:00+00:00",
          "2024-06-10T04:00:00+00:00",
          "2024-06-17T04:00:00+00:00",
          "2024-06-24T04:00:00+00:00",
          "2024-07-01T04:00:00+00:00",
          "2024-07-08T04:00:00+00:00",
          "2024-07-15T04:00:00+00:00",
          "2024-07-22T04:00:00+00:00",
          "2024-07-29T04:00:00+00:00",
          "2024-08-05T04:00:00+00:00",
          "2024-08-12T04:00:00+00:00",
          "2024-08-19T04:00:00+00:00",
          "2024-08-26T04:00:00+00:00",
          "2024-09-02T04:00:00+00:00",
          "2024-09-09T04:00:00+00:00",
          "2024-09-16T04:00:00+00:00",
          "2024-09-23T04:00:00+00:00",
          "2024-09-30T04:00:00+00:00",
          "2024-10-07T04:00:00+00:00",
          "2024-10-14T04:00:00+00:00",
          "2024-10-21T04:00:00+00:00",
          "2024-10-28T04:00:00+00:00",
          "2024-11-04T05:00:00+00:00",
          "2024-11-11T05:00:00+00:00",
          "2024-11-18T05:00:00+00:00",
          "2024-11-25T05:00:00+00:00",
          "2024-12-02T05:00:00+00:00",
          "2024-12-09T05:00:00+00:00",
          "2024-12-16T05:00:00+00:00",
          "2024-12-23T05:00:00+00:00",
          "2024-12-30T05:00:00+00:00",
          "2025-01-06T05:00:00+00:00",
          "2025-01-13T05:00:00+00:00",
          "2025-01-20T05:00:00+00:00",
          "2025-01-27T05:00:00+00:00",
          "2025-02-03T05:00:00+00:00",
          "2025-02-10T05:00:00+00:00",
          "2025-02-17T05:00:00+00:00",
          "2025-02-24T05:00:00+00:00",
          "2025-03-03T05:00:00+00:00",
          "2025-03-10T04:00:00+00:00",
          "2025-03-17T04:00:00+00:00",
          "2025-03-24T04:00:00+00:00",
          "2025-03-31T04:00:00+00:00",
          "2025-04-07T04:00:00+00:00",
          "2025-04-14T04:00:00+00:00",
          "2025-04-21T04:00:00+00:00",
          "2025-04-28T04:00:00+00:00",
          "2025-05-05T04:00:00+00:00",
          "2025-05-12T04:00:00+00:00",
          "2025-05-19T04:00:00+00:00",
          "2025-05-26T04:00:00+00:00",
          "2025-06-02T04:00:00+00:00",
          "2025-06-09T04:00:00+00:00",
          "2025-06-16T04:00:00+00:00",
          "2025-06-23T04:00:00+00:00",
          "2025-06-30T04:00:00+00:00",
          "2025-07-07T04:00:00+00:00",
          "2025-07-14T04:00:00+00:00"
         ],
         "xaxis": "x3",
         "y": {
          "bdata": "AAAAVkGf5EEAAAAfIWnfQQAAAMndRtdBAACAeTmV2UEAAAD033nhQQAAANxR+d5BAAAAuqlV5EEAAIBJnn7kQQAAwHCPNOVBAAAARlUV40EAAICizHTkQQAAgJPsDOFBAAAATvL34kEAAAD+P1XnQQAAwJD0Y+VBAACAOvyA3UEAAIBoaCvaQQAAgHlhkd1BAAAAT4B630EAAAAefiDbQQAAADoRWd9BAAAAeRXq2EEAAACb94ziQQAAwIFWPOxBAADAGGll50EAAAAaYfHfQQAAAPPpG+ZBAACAcFOD2kEAAEApx8HiQQAAAMYem9FBAACArmfL4UEAAAASToTmQQAAAOOSE9xBAAAAxnJ22UEAAIAcQA3hQQAAAPS+1+VBAABgayIW8EEAAMB3FzXnQQAAAHSWNdpBAACA1a1G30EAAIDl1SzgQQAAgMtwKd9BAACAfvc130EAAADEjn7fQQAAADPD0eRBAACAglqw4EEAAICQNjrgQQAAANoGnN5BAACA7qPz3EEAAEDErjzgQQAAACjc695BAACA3yJS3EEAAIBdyWbgQQAAAPx8PttBAACAJOmY0EEAAICocarVQQAAwHb5m+VBAACAs04z3UEAAABT+kLgQQAAgDxnrt5BAACAtZ4w5EEAAIDGBaXjQQAAgFf9BOdBAADASaHz4EEAAMDd59jpQQAAAAgrCuhBAACAQxeD5UEAAACegxnfQQAAgI6JJd9BAACAvEXw3kEAAIBV+ZrjQQAAAF7Iy+JBAACAFhEg30EAAIDhHpvbQQAAgPxSJtlBAAAAHuhV4kEAAEBLTjjhQQAAgKapO+JBAACAyrz01EEAAMAq9iraQQAAAE1OTttBAACAPaPPy0EAAADE7ODUQQAAgBsgI9RBAACAvXyM1kEAAEB0M37gQQAAwGo0o95BAACAUmHQ10EAAADx6HrXQQAAALRj3dtBAABAooJl10EAAED02K3XQQAAwIAb3NVBAABAL+Mm1UEAAACDf/bSQQAAQLWSO9NBAACAIMY61EEAAIDcMzPRQQAAAFoOcM1BAAAAQCcAzUEAAIApmlLOQQAAQDb8w9RBAACAVuHsykEAAACXfqvLQQAAgKlcDs1BAABAnvo800EAAAC+4O/AQQAAgLFlYcZBAACAPfpaz0EAAAC8MK/NQQAAAJ6tnchBAACgI2i840EAAEC2RGbUQQAAAOgJSMxBAAAAhaybxkEAAEDT3//YQQAAQG28LdpBAADASdEq2EEAAMBDvAbUQQAAwHSjRdFBAADATuQK2EEAAMAAm0PiQQAAANeQodFBAABAqYCc0kEAAAAT3PrOQQAAAMFkw8hBAACAYzs400EAAABJsiTOQQAAQPKJ5NFBAAAApxUczUEAAIBLTGPJQQAAADQ4qMVBAAAAzcb1z0EAAIBTfYnFQQAAAKEEichBAAAARsLYyEE=",
          "dtype": "f8"
         },
         "yaxis": "y3"
        }
       ],
       "layout": {
        "annotations": [
         {
          "font": {
           "size": 16
          },
          "showarrow": false,
          "text": "Candlestick with SMAs",
          "x": 0.5,
          "xanchor": "center",
          "xref": "paper",
          "y": 1,
          "yanchor": "bottom",
          "yref": "paper"
         },
         {
          "font": {
           "size": 16
          },
          "showarrow": false,
          "text": "MACD",
          "x": 0.5,
          "xanchor": "center",
          "xref": "paper",
          "y": 0.5,
          "yanchor": "bottom",
          "yref": "paper"
         },
         {
          "font": {
           "size": 16
          },
          "showarrow": false,
          "text": "Volume",
          "x": 0.5,
          "xanchor": "center",
          "xref": "paper",
          "y": 0.235,
          "yanchor": "bottom",
          "yref": "paper"
         }
        ],
        "height": 900,
        "margin": {
         "b": 40,
         "t": 40
        },
        "template": {
         "data": {
          "bar": [
           {
            "error_x": {
             "color": "#2a3f5f"
            },
            "error_y": {
             "color": "#2a3f5f"
            },
            "marker": {
             "line": {
              "color": "white",
              "width": 0.5
             },
             "pattern": {
              "fillmode": "overlay",
              "size": 10,
              "solidity": 0.2
             }
            },
            "type": "bar"
           }
          ],
          "barpolar": [
           {
            "marker": {
             "line": {
              "color": "white",
              "width": 0.5
             },
             "pattern": {
              "fillmode": "overlay",
              "size": 10,
              "solidity": 0.2
             }
            },
            "type": "barpolar"
           }
          ],
          "carpet": [
           {
            "aaxis": {
             "endlinecolor": "#2a3f5f",
             "gridcolor": "#C8D4E3",
             "linecolor": "#C8D4E3",
             "minorgridcolor": "#C8D4E3",
             "startlinecolor": "#2a3f5f"
            },
            "baxis": {
             "endlinecolor": "#2a3f5f",
             "gridcolor": "#C8D4E3",
             "linecolor": "#C8D4E3",
             "minorgridcolor": "#C8D4E3",
             "startlinecolor": "#2a3f5f"
            },
            "type": "carpet"
           }
          ],
          "choropleth": [
           {
            "colorbar": {
             "outlinewidth": 0,
             "ticks": ""
            },
            "type": "choropleth"
           }
          ],
          "contour": [
           {
            "colorbar": {
             "outlinewidth": 0,
             "ticks": ""
            },
            "colorscale": [
             [
              0,
              "#0d0887"
             ],
             [
              0.1111111111111111,
              "#46039f"
             ],
             [
              0.2222222222222222,
              "#7201a8"
             ],
             [
              0.3333333333333333,
              "#9c179e"
             ],
             [
              0.4444444444444444,
              "#bd3786"
             ],
             [
              0.5555555555555556,
              "#d8576b"
             ],
             [
              0.6666666666666666,
              "#ed7953"
             ],
             [
              0.7777777777777778,
              "#fb9f3a"
             ],
             [
              0.8888888888888888,
              "#fdca26"
             ],
             [
              1,
              "#f0f921"
             ]
            ],
            "type": "contour"
           }
          ],
          "contourcarpet": [
           {
            "colorbar": {
             "outlinewidth": 0,
             "ticks": ""
            },
            "type": "contourcarpet"
           }
          ],
          "heatmap": [
           {
            "colorbar": {
             "outlinewidth": 0,
             "ticks": ""
            },
            "colorscale": [
             [
              0,
              "#0d0887"
             ],
             [
              0.1111111111111111,
              "#46039f"
             ],
             [
              0.2222222222222222,
              "#7201a8"
             ],
             [
              0.3333333333333333,
              "#9c179e"
             ],
             [
              0.4444444444444444,
              "#bd3786"
             ],
             [
              0.5555555555555556,
              "#d8576b"
             ],
             [
              0.6666666666666666,
              "#ed7953"
             ],
             [
              0.7777777777777778,
              "#fb9f3a"
             ],
             [
              0.8888888888888888,
              "#fdca26"
             ],
             [
              1,
              "#f0f921"
             ]
            ],
            "type": "heatmap"
           }
          ],
          "histogram": [
           {
            "marker": {
             "pattern": {
              "fillmode": "overlay",
              "size": 10,
              "solidity": 0.2
             }
            },
            "type": "histogram"
           }
          ],
          "histogram2d": [
           {
            "colorbar": {
             "outlinewidth": 0,
             "ticks": ""
            },
            "colorscale": [
             [
              0,
              "#0d0887"
             ],
             [
              0.1111111111111111,
              "#46039f"
             ],
             [
              0.2222222222222222,
              "#7201a8"
             ],
             [
              0.3333333333333333,
              "#9c179e"
             ],
             [
              0.4444444444444444,
              "#bd3786"
             ],
             [
              0.5555555555555556,
              "#d8576b"
             ],
             [
              0.6666666666666666,
              "#ed7953"
             ],
             [
              0.7777777777777778,
              "#fb9f3a"
             ],
             [
              0.8888888888888888,
              "#fdca26"
             ],
             [
              1,
              "#f0f921"
             ]
            ],
            "type": "histogram2d"
           }
          ],
          "histogram2dcontour": [
           {
            "colorbar": {
             "outlinewidth": 0,
             "ticks": ""
            },
            "colorscale": [
             [
              0,
              "#0d0887"
             ],
             [
              0.1111111111111111,
              "#46039f"
             ],
             [
              0.2222222222222222,
              "#7201a8"
             ],
             [
              0.3333333333333333,
              "#9c179e"
             ],
             [
              0.4444444444444444,
              "#bd3786"
             ],
             [
              0.5555555555555556,
              "#d8576b"
             ],
             [
              0.6666666666666666,
              "#ed7953"
             ],
             [
              0.7777777777777778,
              "#fb9f3a"
             ],
             [
              0.8888888888888888,
              "#fdca26"
             ],
             [
              1,
              "#f0f921"
             ]
            ],
            "type": "histogram2dcontour"
           }
          ],
          "mesh3d": [
           {
            "colorbar": {
             "outlinewidth": 0,
             "ticks": ""
            },
            "type": "mesh3d"
           }
          ],
          "parcoords": [
           {
            "line": {
             "colorbar": {
              "outlinewidth": 0,
              "ticks": ""
             }
            },
            "type": "parcoords"
           }
          ],
          "pie": [
           {
            "automargin": true,
            "type": "pie"
           }
          ],
          "scatter": [
           {
            "fillpattern": {
             "fillmode": "overlay",
             "size": 10,
             "solidity": 0.2
            },
            "type": "scatter"
           }
          ],
          "scatter3d": [
           {
            "line": {
             "colorbar": {
              "outlinewidth": 0,
              "ticks": ""
             }
            },
            "marker": {
             "colorbar": {
              "outlinewidth": 0,
              "ticks": ""
             }
            },
            "type": "scatter3d"
           }
          ],
          "scattercarpet": [
           {
            "marker": {
             "colorbar": {
              "outlinewidth": 0,
              "ticks": ""
             }
            },
            "type": "scattercarpet"
           }
          ],
          "scattergeo": [
           {
            "marker": {
             "colorbar": {
              "outlinewidth": 0,
              "ticks": ""
             }
            },
            "type": "scattergeo"
           }
          ],
          "scattergl": [
           {
            "marker": {
             "colorbar": {
              "outlinewidth": 0,
              "ticks": ""
             }
            },
            "type": "scattergl"
           }
          ],
          "scattermap": [
           {
            "marker": {
             "colorbar": {
              "outlinewidth": 0,
              "ticks": ""
             }
            },
            "type": "scattermap"
           }
          ],
          "scattermapbox": [
           {
            "marker": {
             "colorbar": {
              "outlinewidth": 0,
              "ticks": ""
             }
            },
            "type": "scattermapbox"
           }
          ],
          "scatterpolar": [
           {
            "marker": {
             "colorbar": {
              "outlinewidth": 0,
              "ticks": ""
             }
            },
            "type": "scatterpolar"
           }
          ],
          "scatterpolargl": [
           {
            "marker": {
             "colorbar": {
              "outlinewidth": 0,
              "ticks": ""
             }
            },
            "type": "scatterpolargl"
           }
          ],
          "scatterternary": [
           {
            "marker": {
             "colorbar": {
              "outlinewidth": 0,
              "ticks": ""
             }
            },
            "type": "scatterternary"
           }
          ],
          "surface": [
           {
            "colorbar": {
             "outlinewidth": 0,
             "ticks": ""
            },
            "colorscale": [
             [
              0,
              "#0d0887"
             ],
             [
              0.1111111111111111,
              "#46039f"
             ],
             [
              0.2222222222222222,
              "#7201a8"
             ],
             [
              0.3333333333333333,
              "#9c179e"
             ],
             [
              0.4444444444444444,
              "#bd3786"
             ],
             [
              0.5555555555555556,
              "#d8576b"
             ],
             [
              0.6666666666666666,
              "#ed7953"
             ],
             [
              0.7777777777777778,
              "#fb9f3a"
             ],
             [
              0.8888888888888888,
              "#fdca26"
             ],
             [
              1,
              "#f0f921"
             ]
            ],
            "type": "surface"
           }
          ],
          "table": [
           {
            "cells": {
             "fill": {
              "color": "#EBF0F8"
             },
             "line": {
              "color": "white"
             }
            },
            "header": {
             "fill": {
              "color": "#C8D4E3"
             },
             "line": {
              "color": "white"
             }
            },
            "type": "table"
           }
          ]
         },
         "layout": {
          "annotationdefaults": {
           "arrowcolor": "#2a3f5f",
           "arrowhead": 0,
           "arrowwidth": 1
          },
          "autotypenumbers": "strict",
          "coloraxis": {
           "colorbar": {
            "outlinewidth": 0,
            "ticks": ""
           }
          },
          "colorscale": {
           "diverging": [
            [
             0,
             "#8e0152"
            ],
            [
             0.1,
             "#c51b7d"
            ],
            [
             0.2,
             "#de77ae"
            ],
            [
             0.3,
             "#f1b6da"
            ],
            [
             0.4,
             "#fde0ef"
            ],
            [
             0.5,
             "#f7f7f7"
            ],
            [
             0.6,
             "#e6f5d0"
            ],
            [
             0.7,
             "#b8e186"
            ],
            [
             0.8,
             "#7fbc41"
            ],
            [
             0.9,
             "#4d9221"
            ],
            [
             1,
             "#276419"
            ]
           ],
           "sequential": [
            [
             0,
             "#0d0887"
            ],
            [
             0.1111111111111111,
             "#46039f"
            ],
            [
             0.2222222222222222,
             "#7201a8"
            ],
            [
             0.3333333333333333,
             "#9c179e"
            ],
            [
             0.4444444444444444,
             "#bd3786"
            ],
            [
             0.5555555555555556,
             "#d8576b"
            ],
            [
             0.6666666666666666,
             "#ed7953"
            ],
            [
             0.7777777777777778,
             "#fb9f3a"
            ],
            [
             0.8888888888888888,
             "#fdca26"
            ],
            [
             1,
             "#f0f921"
            ]
           ],
           "sequentialminus": [
            [
             0,
             "#0d0887"
            ],
            [
             0.1111111111111111,
             "#46039f"
            ],
            [
             0.2222222222222222,
             "#7201a8"
            ],
            [
             0.3333333333333333,
             "#9c179e"
            ],
            [
             0.4444444444444444,
             "#bd3786"
            ],
            [
             0.5555555555555556,
             "#d8576b"
            ],
            [
             0.6666666666666666,
             "#ed7953"
            ],
            [
             0.7777777777777778,
             "#fb9f3a"
            ],
            [
             0.8888888888888888,
             "#fdca26"
            ],
            [
             1,
             "#f0f921"
            ]
           ]
          },
          "colorway": [
           "#636efa",
           "#EF553B",
           "#00cc96",
           "#ab63fa",
           "#FFA15A",
           "#19d3f3",
           "#FF6692",
           "#B6E880",
           "#FF97FF",
           "#FECB52"
          ],
          "font": {
           "color": "#2a3f5f"
          },
          "geo": {
           "bgcolor": "white",
           "lakecolor": "white",
           "landcolor": "white",
           "showlakes": true,
           "showland": true,
           "subunitcolor": "#C8D4E3"
          },
          "hoverlabel": {
           "align": "left"
          },
          "hovermode": "closest",
          "mapbox": {
           "style": "light"
          },
          "paper_bgcolor": "white",
          "plot_bgcolor": "white",
          "polar": {
           "angularaxis": {
            "gridcolor": "#EBF0F8",
            "linecolor": "#EBF0F8",
            "ticks": ""
           },
           "bgcolor": "white",
           "radialaxis": {
            "gridcolor": "#EBF0F8",
            "linecolor": "#EBF0F8",
            "ticks": ""
           }
          },
          "scene": {
           "xaxis": {
            "backgroundcolor": "white",
            "gridcolor": "#DFE8F3",
            "gridwidth": 2,
            "linecolor": "#EBF0F8",
            "showbackground": true,
            "ticks": "",
            "zerolinecolor": "#EBF0F8"
           },
           "yaxis": {
            "backgroundcolor": "white",
            "gridcolor": "#DFE8F3",
            "gridwidth": 2,
            "linecolor": "#EBF0F8",
            "showbackground": true,
            "ticks": "",
            "zerolinecolor": "#EBF0F8"
           },
           "zaxis": {
            "backgroundcolor": "white",
            "gridcolor": "#DFE8F3",
            "gridwidth": 2,
            "linecolor": "#EBF0F8",
            "showbackground": true,
            "ticks": "",
            "zerolinecolor": "#EBF0F8"
           }
          },
          "shapedefaults": {
           "line": {
            "color": "#2a3f5f"
           }
          },
          "ternary": {
           "aaxis": {
            "gridcolor": "#DFE8F3",
            "linecolor": "#A2B1C6",
            "ticks": ""
           },
           "baxis": {
            "gridcolor": "#DFE8F3",
            "linecolor": "#A2B1C6",
            "ticks": ""
           },
           "bgcolor": "white",
           "caxis": {
            "gridcolor": "#DFE8F3",
            "linecolor": "#A2B1C6",
            "ticks": ""
           }
          },
          "title": {
           "x": 0.05
          },
          "xaxis": {
           "automargin": true,
           "gridcolor": "#EBF0F8",
           "linecolor": "#EBF0F8",
           "ticks": "",
           "title": {
            "standoff": 15
           },
           "zerolinecolor": "#EBF0F8",
           "zerolinewidth": 2
          },
          "yaxis": {
           "automargin": true,
           "gridcolor": "#EBF0F8",
           "linecolor": "#EBF0F8",
           "ticks": "",
           "title": {
            "standoff": 15
           },
           "zerolinecolor": "#EBF0F8",
           "zerolinewidth": 2
          }
         }
        },
        "title": {
         "text": "NVDA Weekly Stock Price, MACD, and Volume Analysis"
        },
        "xaxis": {
         "anchor": "y",
         "domain": [
          0,
          1
         ],
         "matches": "x3",
         "rangeslider": {
          "visible": false
         },
         "showticklabels": false
        },
        "xaxis2": {
         "anchor": "y2",
         "domain": [
          0,
          1
         ],
         "matches": "x3",
         "showticklabels": false
        },
        "xaxis3": {
         "anchor": "y3",
         "domain": [
          0,
          1
         ]
        },
        "yaxis": {
         "anchor": "x",
         "domain": [
          0.53,
          1
         ]
        },
        "yaxis2": {
         "anchor": "x2",
         "domain": [
          0.265,
          0.5
         ]
        },
        "yaxis3": {
         "anchor": "x3",
         "domain": [
          0,
          0.235
         ]
        }
       }
      }
     },
     "metadata": {},
     "output_type": "display_data"
    }
   ],
   "source": [
    "# Determine bar color based on price change\n",
    "df['Color'] = np.where(df['close'] >= df['open'], 'green', 'red')\n",
    "df['MACD_Hist'] = df['MACD'] - df['MACD_Signal']\n",
    "\n",
    "fig = make_subplots(\n",
    "    rows=3, cols=1,\n",
    "    shared_xaxes=True,\n",
    "    vertical_spacing=0.03,\n",
    "    row_heights=[0.5, 0.25, 0.25],\n",
    "    subplot_titles=(\"Candlestick with SMAs\", \"MACD\", \"Volume\")\n",
    ")\n",
    "\n",
    "# Candlestick Chart\n",
    "fig.add_trace(go.Candlestick(\n",
    "    x=df.index,\n",
    "    open=df['open'],\n",
    "    high=df['high'],\n",
    "    low=df['low'],\n",
    "    close=df['close'],\n",
    "    name='OHLC',\n",
    "    increasing_line_color='green',\n",
    "    decreasing_line_color='red'\n",
    "), row=1, col=1)\n",
    "\n",
    "# SMAs overlay\n",
    "fig.add_trace(go.Scatter(x=df.index, y=df['SMA5'], name='SMA 5', line=dict(color='orange')), row=1, col=1)\n",
    "fig.add_trace(go.Scatter(x=df.index, y=df['SMA20'], name='SMA 20', line=dict(color='purple')), row=1, col=1)\n",
    "fig.add_trace(go.Scatter(x=df.index, y=df['SMA50'], name='SMA 50', line=dict(color='blue')), row=1, col=1)\n",
    "\n",
    "# MACD Line + Signal\n",
    "fig.add_trace(go.Scatter(x=df.index, y=df['MACD'], name='MACD', line=dict(color='blue')), row=2, col=1)\n",
    "fig.add_trace(go.Scatter(x=df.index, y=df['MACD_Signal'], name='MACD Signal', line=dict(color='red')), row=2, col=1)\n",
    "\n",
    "# MACD Histogram\n",
    "fig.add_trace(go.Bar(\n",
    "    x=df.index,\n",
    "    y=df['MACD_Hist'],\n",
    "    name='MACD Histogram',\n",
    "    marker_color=np.where(df['MACD_Hist'] >= 0, 'green', 'red'),\n",
    "    showlegend=True\n",
    "), row=2, col=1)\n",
    "\n",
    "# Volume (green if up day, red if down)\n",
    "fig.add_trace(go.Bar(\n",
    "    x=df.index,\n",
    "    y=df['volume'],\n",
    "    name='Volume',\n",
    "    marker_color=df['Color'],\n",
    "    showlegend=True\n",
    "), row=3, col=1)\n",
    "\n",
    "# Final layout\n",
    "fig.update_layout(\n",
    "    title='NVDA Weekly Stock Price, MACD, and Volume Analysis',\n",
    "    xaxis_rangeslider_visible=False,\n",
    "    template='plotly_white',\n",
    "    height=900,\n",
    "    margin=dict(t=40, b=40),\n",
    ")\n",
    "\n",
    "fig.show()\n"
   ]
  },
  {
   "cell_type": "markdown",
   "id": "8432bf80",
   "metadata": {},
   "source": [
    "# Prepare Data for LSTM"
   ]
  },
  {
   "cell_type": "code",
   "execution_count": 108,
   "id": "20b31423",
   "metadata": {},
   "outputs": [
    {
     "name": "stdout",
     "output_type": "stream",
     "text": [
      "Prepared data with 100 training samples and 25 test samples.\n",
      "Training data shape: (100, 10, 7)\n",
      "Testing data shape: (25, 10, 7)\n"
     ]
    }
   ],
   "source": [
    "def prepare_data(df, look_back=10):\n",
    "    features = ['close', 'SMA5', 'SMA20', 'SMA50', 'MACD', 'MACD_Signal', 'RSI']\n",
    "    df_clean = df.dropna().copy()\n",
    "\n",
    "    # Add target column: 1 if next week's close > this week's close\n",
    "    df_clean['Target'] = (df_clean['close'].shift(-1) > df_clean['close']).astype(int)\n",
    "\n",
    "    # Drop final row (its target will be NaN after shift)\n",
    "    df_clean = df_clean[:-1]\n",
    "\n",
    "    # Normalize features\n",
    "    scaler = StandardScaler()\n",
    "    scaled_features = scaler.fit_transform(df_clean[features])\n",
    "    scaled_df = pd.DataFrame(scaled_features, index=df_clean.index, columns=features)\n",
    "\n",
    "    # Store target separately\n",
    "    y = df_clean['Target'].values\n",
    "\n",
    "    # Create sequences\n",
    "    X = []\n",
    "    y_seq = []\n",
    "    for i in range(look_back, len(scaled_df)):\n",
    "        X.append(scaled_df.iloc[i - look_back:i].values)\n",
    "        y_seq.append(y[i])\n",
    "\n",
    "    X = np.array(X)\n",
    "    y_seq = np.array(y_seq)\n",
    "\n",
    "    # Split into train/test sets\n",
    "    split_index = int(len(X) * 0.8)\n",
    "    X_train, X_test = X[:split_index], X[split_index:]\n",
    "    y_train, y_test = y_seq[:split_index], y_seq[split_index:]\n",
    "\n",
    "    print(f\"Prepared data with {len(X_train)} training samples and {len(X_test)} test samples.\")\n",
    "    return X_train, X_test, y_train, y_test, scaler\n",
    "\n",
    "\n",
    "\n",
    "X_train, X_test, y_train, y_test, scaler = prepare_data(df, look_back=10)\n",
    "\n",
    "print(\"Training data shape:\", X_train.shape)\n",
    "print(\"Testing data shape:\", X_test.shape)"
   ]
  },
  {
   "cell_type": "markdown",
   "id": "5728572c",
   "metadata": {},
   "source": [
    "# Build LSTM Model"
   ]
  },
  {
   "cell_type": "code",
   "execution_count": 109,
   "id": "d64eac85",
   "metadata": {},
   "outputs": [
    {
     "name": "stderr",
     "output_type": "stream",
     "text": [
      "/Users/misbahsmac/Desktop/GitHub/NVDA-LSTM-predictor/venv/lib/python3.13/site-packages/keras/src/layers/rnn/rnn.py:199: UserWarning:\n",
      "\n",
      "Do not pass an `input_shape`/`input_dim` argument to a layer. When using Sequential models, prefer using an `Input(shape)` object as the first layer in the model instead.\n",
      "\n"
     ]
    },
    {
     "data": {
      "text/html": [
       "<pre style=\"white-space:pre;overflow-x:auto;line-height:normal;font-family:Menlo,'DejaVu Sans Mono',consolas,'Courier New',monospace\"><span style=\"font-weight: bold\">Model: \"sequential_6\"</span>\n",
       "</pre>\n"
      ],
      "text/plain": [
       "\u001b[1mModel: \"sequential_6\"\u001b[0m\n"
      ]
     },
     "metadata": {},
     "output_type": "display_data"
    },
    {
     "data": {
      "text/html": [
       "<pre style=\"white-space:pre;overflow-x:auto;line-height:normal;font-family:Menlo,'DejaVu Sans Mono',consolas,'Courier New',monospace\">┏━━━━━━━━━━━━━━━━━━━━━━━━━━━━━━━━━┳━━━━━━━━━━━━━━━━━━━━━━━━┳━━━━━━━━━━━━━━━┓\n",
       "┃<span style=\"font-weight: bold\"> Layer (type)                    </span>┃<span style=\"font-weight: bold\"> Output Shape           </span>┃<span style=\"font-weight: bold\">       Param # </span>┃\n",
       "┡━━━━━━━━━━━━━━━━━━━━━━━━━━━━━━━━━╇━━━━━━━━━━━━━━━━━━━━━━━━╇━━━━━━━━━━━━━━━┩\n",
       "│ lstm_12 (<span style=\"color: #0087ff; text-decoration-color: #0087ff\">LSTM</span>)                  │ (<span style=\"color: #00d7ff; text-decoration-color: #00d7ff\">None</span>, <span style=\"color: #00af00; text-decoration-color: #00af00\">10</span>, <span style=\"color: #00af00; text-decoration-color: #00af00\">64</span>)         │        <span style=\"color: #00af00; text-decoration-color: #00af00\">18,432</span> │\n",
       "├─────────────────────────────────┼────────────────────────┼───────────────┤\n",
       "│ dropout_12 (<span style=\"color: #0087ff; text-decoration-color: #0087ff\">Dropout</span>)            │ (<span style=\"color: #00d7ff; text-decoration-color: #00d7ff\">None</span>, <span style=\"color: #00af00; text-decoration-color: #00af00\">10</span>, <span style=\"color: #00af00; text-decoration-color: #00af00\">64</span>)         │             <span style=\"color: #00af00; text-decoration-color: #00af00\">0</span> │\n",
       "├─────────────────────────────────┼────────────────────────┼───────────────┤\n",
       "│ lstm_13 (<span style=\"color: #0087ff; text-decoration-color: #0087ff\">LSTM</span>)                  │ (<span style=\"color: #00d7ff; text-decoration-color: #00d7ff\">None</span>, <span style=\"color: #00af00; text-decoration-color: #00af00\">64</span>)             │        <span style=\"color: #00af00; text-decoration-color: #00af00\">33,024</span> │\n",
       "├─────────────────────────────────┼────────────────────────┼───────────────┤\n",
       "│ dropout_13 (<span style=\"color: #0087ff; text-decoration-color: #0087ff\">Dropout</span>)            │ (<span style=\"color: #00d7ff; text-decoration-color: #00d7ff\">None</span>, <span style=\"color: #00af00; text-decoration-color: #00af00\">64</span>)             │             <span style=\"color: #00af00; text-decoration-color: #00af00\">0</span> │\n",
       "├─────────────────────────────────┼────────────────────────┼───────────────┤\n",
       "│ dense_6 (<span style=\"color: #0087ff; text-decoration-color: #0087ff\">Dense</span>)                 │ (<span style=\"color: #00d7ff; text-decoration-color: #00d7ff\">None</span>, <span style=\"color: #00af00; text-decoration-color: #00af00\">1</span>)              │            <span style=\"color: #00af00; text-decoration-color: #00af00\">65</span> │\n",
       "└─────────────────────────────────┴────────────────────────┴───────────────┘\n",
       "</pre>\n"
      ],
      "text/plain": [
       "┏━━━━━━━━━━━━━━━━━━━━━━━━━━━━━━━━━┳━━━━━━━━━━━━━━━━━━━━━━━━┳━━━━━━━━━━━━━━━┓\n",
       "┃\u001b[1m \u001b[0m\u001b[1mLayer (type)                   \u001b[0m\u001b[1m \u001b[0m┃\u001b[1m \u001b[0m\u001b[1mOutput Shape          \u001b[0m\u001b[1m \u001b[0m┃\u001b[1m \u001b[0m\u001b[1m      Param #\u001b[0m\u001b[1m \u001b[0m┃\n",
       "┡━━━━━━━━━━━━━━━━━━━━━━━━━━━━━━━━━╇━━━━━━━━━━━━━━━━━━━━━━━━╇━━━━━━━━━━━━━━━┩\n",
       "│ lstm_12 (\u001b[38;5;33mLSTM\u001b[0m)                  │ (\u001b[38;5;45mNone\u001b[0m, \u001b[38;5;34m10\u001b[0m, \u001b[38;5;34m64\u001b[0m)         │        \u001b[38;5;34m18,432\u001b[0m │\n",
       "├─────────────────────────────────┼────────────────────────┼───────────────┤\n",
       "│ dropout_12 (\u001b[38;5;33mDropout\u001b[0m)            │ (\u001b[38;5;45mNone\u001b[0m, \u001b[38;5;34m10\u001b[0m, \u001b[38;5;34m64\u001b[0m)         │             \u001b[38;5;34m0\u001b[0m │\n",
       "├─────────────────────────────────┼────────────────────────┼───────────────┤\n",
       "│ lstm_13 (\u001b[38;5;33mLSTM\u001b[0m)                  │ (\u001b[38;5;45mNone\u001b[0m, \u001b[38;5;34m64\u001b[0m)             │        \u001b[38;5;34m33,024\u001b[0m │\n",
       "├─────────────────────────────────┼────────────────────────┼───────────────┤\n",
       "│ dropout_13 (\u001b[38;5;33mDropout\u001b[0m)            │ (\u001b[38;5;45mNone\u001b[0m, \u001b[38;5;34m64\u001b[0m)             │             \u001b[38;5;34m0\u001b[0m │\n",
       "├─────────────────────────────────┼────────────────────────┼───────────────┤\n",
       "│ dense_6 (\u001b[38;5;33mDense\u001b[0m)                 │ (\u001b[38;5;45mNone\u001b[0m, \u001b[38;5;34m1\u001b[0m)              │            \u001b[38;5;34m65\u001b[0m │\n",
       "└─────────────────────────────────┴────────────────────────┴───────────────┘\n"
      ]
     },
     "metadata": {},
     "output_type": "display_data"
    },
    {
     "data": {
      "text/html": [
       "<pre style=\"white-space:pre;overflow-x:auto;line-height:normal;font-family:Menlo,'DejaVu Sans Mono',consolas,'Courier New',monospace\"><span style=\"font-weight: bold\"> Total params: </span><span style=\"color: #00af00; text-decoration-color: #00af00\">51,521</span> (201.25 KB)\n",
       "</pre>\n"
      ],
      "text/plain": [
       "\u001b[1m Total params: \u001b[0m\u001b[38;5;34m51,521\u001b[0m (201.25 KB)\n"
      ]
     },
     "metadata": {},
     "output_type": "display_data"
    },
    {
     "data": {
      "text/html": [
       "<pre style=\"white-space:pre;overflow-x:auto;line-height:normal;font-family:Menlo,'DejaVu Sans Mono',consolas,'Courier New',monospace\"><span style=\"font-weight: bold\"> Trainable params: </span><span style=\"color: #00af00; text-decoration-color: #00af00\">51,521</span> (201.25 KB)\n",
       "</pre>\n"
      ],
      "text/plain": [
       "\u001b[1m Trainable params: \u001b[0m\u001b[38;5;34m51,521\u001b[0m (201.25 KB)\n"
      ]
     },
     "metadata": {},
     "output_type": "display_data"
    },
    {
     "data": {
      "text/html": [
       "<pre style=\"white-space:pre;overflow-x:auto;line-height:normal;font-family:Menlo,'DejaVu Sans Mono',consolas,'Courier New',monospace\"><span style=\"font-weight: bold\"> Non-trainable params: </span><span style=\"color: #00af00; text-decoration-color: #00af00\">0</span> (0.00 B)\n",
       "</pre>\n"
      ],
      "text/plain": [
       "\u001b[1m Non-trainable params: \u001b[0m\u001b[38;5;34m0\u001b[0m (0.00 B)\n"
      ]
     },
     "metadata": {},
     "output_type": "display_data"
    }
   ],
   "source": [
    "def create_model(input_shape):\n",
    "    model = Sequential()\n",
    "    \n",
    "    # First LSTM layer\n",
    "    model.add(LSTM(units=64, return_sequences=True, input_shape=input_shape,\n",
    "                   kernel_regularizer=l2(0.001)))\n",
    "    model.add(Dropout(0.2))\n",
    "    \n",
    "    # Second LSTM layer\n",
    "    model.add(LSTM(units=64, return_sequences=False,\n",
    "                   kernel_regularizer=l2(0.001)))\n",
    "    model.add(Dropout(0.2))\n",
    "    \n",
    "    # Output layer for binary classification\n",
    "    model.add(Dense(1, activation='sigmoid'))\n",
    "    \n",
    "    # Compile model\n",
    "    model.compile(\n",
    "        loss='binary_crossentropy',\n",
    "        optimizer=Adam(learning_rate=0.001),\n",
    "        metrics=['accuracy']\n",
    "    )\n",
    "    \n",
    "    return model\n",
    "\n",
    "\n",
    "\n",
    "input_shape = (X_train.shape[1], X_train.shape[2])  # (10, 7)\n",
    "model = create_model(input_shape)\n",
    "model.summary()"
   ]
  },
  {
   "cell_type": "markdown",
   "id": "b9dacf5b",
   "metadata": {},
   "source": [
    "# Train the Model"
   ]
  },
  {
   "cell_type": "code",
   "execution_count": 110,
   "id": "356a3a29",
   "metadata": {},
   "outputs": [
    {
     "name": "stdout",
     "output_type": "stream",
     "text": [
      "Epoch 1/100\n"
     ]
    },
    {
     "name": "stdout",
     "output_type": "stream",
     "text": [
      "\u001b[1m13/13\u001b[0m \u001b[32m━━━━━━━━━━━━━━━━━━━━\u001b[0m\u001b[37m\u001b[0m \u001b[1m2s\u001b[0m 17ms/step - accuracy: 0.4800 - loss: 0.8056 - val_accuracy: 0.3600 - val_loss: 0.8063 - learning_rate: 0.0010\n",
      "Epoch 2/100\n",
      "\u001b[1m13/13\u001b[0m \u001b[32m━━━━━━━━━━━━━━━━━━━━\u001b[0m\u001b[37m\u001b[0m \u001b[1m0s\u001b[0m 4ms/step - accuracy: 0.6300 - loss: 0.7700 - val_accuracy: 0.3200 - val_loss: 0.8077 - learning_rate: 0.0010\n",
      "Epoch 3/100\n",
      "\u001b[1m13/13\u001b[0m \u001b[32m━━━━━━━━━━━━━━━━━━━━\u001b[0m\u001b[37m\u001b[0m \u001b[1m0s\u001b[0m 4ms/step - accuracy: 0.6300 - loss: 0.7587 - val_accuracy: 0.2000 - val_loss: 0.8253 - learning_rate: 0.0010\n",
      "Epoch 4/100\n",
      "\u001b[1m13/13\u001b[0m \u001b[32m━━━━━━━━━━━━━━━━━━━━\u001b[0m\u001b[37m\u001b[0m \u001b[1m0s\u001b[0m 4ms/step - accuracy: 0.6200 - loss: 0.7408 - val_accuracy: 0.3200 - val_loss: 0.8033 - learning_rate: 0.0010\n",
      "Epoch 5/100\n",
      "\u001b[1m13/13\u001b[0m \u001b[32m━━━━━━━━━━━━━━━━━━━━\u001b[0m\u001b[37m\u001b[0m \u001b[1m0s\u001b[0m 4ms/step - accuracy: 0.6300 - loss: 0.7329 - val_accuracy: 0.3600 - val_loss: 0.7915 - learning_rate: 0.0010\n",
      "Epoch 6/100\n",
      "\u001b[1m13/13\u001b[0m \u001b[32m━━━━━━━━━━━━━━━━━━━━\u001b[0m\u001b[37m\u001b[0m \u001b[1m0s\u001b[0m 3ms/step - accuracy: 0.6300 - loss: 0.7200 - val_accuracy: 0.3600 - val_loss: 0.7952 - learning_rate: 0.0010\n",
      "Epoch 7/100\n",
      "\u001b[1m13/13\u001b[0m \u001b[32m━━━━━━━━━━━━━━━━━━━━\u001b[0m\u001b[37m\u001b[0m \u001b[1m0s\u001b[0m 3ms/step - accuracy: 0.6100 - loss: 0.7128 - val_accuracy: 0.6000 - val_loss: 0.7403 - learning_rate: 0.0010\n",
      "Epoch 8/100\n",
      "\u001b[1m13/13\u001b[0m \u001b[32m━━━━━━━━━━━━━━━━━━━━\u001b[0m\u001b[37m\u001b[0m \u001b[1m0s\u001b[0m 3ms/step - accuracy: 0.6300 - loss: 0.7142 - val_accuracy: 0.6400 - val_loss: 0.7473 - learning_rate: 0.0010\n",
      "Epoch 9/100\n",
      "\u001b[1m13/13\u001b[0m \u001b[32m━━━━━━━━━━━━━━━━━━━━\u001b[0m\u001b[37m\u001b[0m \u001b[1m0s\u001b[0m 3ms/step - accuracy: 0.6300 - loss: 0.7073 - val_accuracy: 0.6400 - val_loss: 0.7337 - learning_rate: 0.0010\n",
      "Epoch 10/100\n",
      "\u001b[1m13/13\u001b[0m \u001b[32m━━━━━━━━━━━━━━━━━━━━\u001b[0m\u001b[37m\u001b[0m \u001b[1m0s\u001b[0m 3ms/step - accuracy: 0.6300 - loss: 0.6978 - val_accuracy: 0.6400 - val_loss: 0.7372 - learning_rate: 0.0010\n",
      "Epoch 11/100\n",
      "\u001b[1m13/13\u001b[0m \u001b[32m━━━━━━━━━━━━━━━━━━━━\u001b[0m\u001b[37m\u001b[0m \u001b[1m0s\u001b[0m 3ms/step - accuracy: 0.6300 - loss: 0.6935 - val_accuracy: 0.6400 - val_loss: 0.7356 - learning_rate: 0.0010\n",
      "Epoch 12/100\n",
      "\u001b[1m13/13\u001b[0m \u001b[32m━━━━━━━━━━━━━━━━━━━━\u001b[0m\u001b[37m\u001b[0m \u001b[1m0s\u001b[0m 3ms/step - accuracy: 0.6400 - loss: 0.6942 - val_accuracy: 0.6400 - val_loss: 0.7100 - learning_rate: 0.0010\n",
      "Epoch 13/100\n",
      "\u001b[1m13/13\u001b[0m \u001b[32m━━━━━━━━━━━━━━━━━━━━\u001b[0m\u001b[37m\u001b[0m \u001b[1m0s\u001b[0m 3ms/step - accuracy: 0.6400 - loss: 0.7012 - val_accuracy: 0.6400 - val_loss: 0.7160 - learning_rate: 0.0010\n",
      "Epoch 14/100\n",
      "\u001b[1m13/13\u001b[0m \u001b[32m━━━━━━━━━━━━━━━━━━━━\u001b[0m\u001b[37m\u001b[0m \u001b[1m0s\u001b[0m 4ms/step - accuracy: 0.6300 - loss: 0.6945 - val_accuracy: 0.6400 - val_loss: 0.7358 - learning_rate: 0.0010\n",
      "Epoch 15/100\n",
      "\u001b[1m 5/13\u001b[0m \u001b[32m━━━━━━━\u001b[0m\u001b[37m━━━━━━━━━━━━━\u001b[0m \u001b[1m0s\u001b[0m 13ms/step - accuracy: 0.6317 - loss: 0.6820\n",
      "Epoch 15: ReduceLROnPlateau reducing learning rate to 0.0005000000237487257.\n",
      "\u001b[1m13/13\u001b[0m \u001b[32m━━━━━━━━━━━━━━━━━━━━\u001b[0m\u001b[37m\u001b[0m \u001b[1m0s\u001b[0m 9ms/step - accuracy: 0.6300 - loss: 0.6885 - val_accuracy: 0.6400 - val_loss: 0.7112 - learning_rate: 0.0010\n",
      "Epoch 16/100\n",
      "\u001b[1m13/13\u001b[0m \u001b[32m━━━━━━━━━━━━━━━━━━━━\u001b[0m\u001b[37m\u001b[0m \u001b[1m0s\u001b[0m 4ms/step - accuracy: 0.6500 - loss: 0.6872 - val_accuracy: 0.6400 - val_loss: 0.7083 - learning_rate: 5.0000e-04\n",
      "Epoch 17/100\n",
      "\u001b[1m13/13\u001b[0m \u001b[32m━━━━━━━━━━━━━━━━━━━━\u001b[0m\u001b[37m\u001b[0m \u001b[1m0s\u001b[0m 5ms/step - accuracy: 0.6400 - loss: 0.6817 - val_accuracy: 0.6400 - val_loss: 0.7084 - learning_rate: 5.0000e-04\n",
      "Epoch 18/100\n",
      "\u001b[1m13/13\u001b[0m \u001b[32m━━━━━━━━━━━━━━━━━━━━\u001b[0m\u001b[37m\u001b[0m \u001b[1m0s\u001b[0m 3ms/step - accuracy: 0.6400 - loss: 0.6836 - val_accuracy: 0.6400 - val_loss: 0.7057 - learning_rate: 5.0000e-04\n",
      "Epoch 19/100\n",
      "\u001b[1m13/13\u001b[0m \u001b[32m━━━━━━━━━━━━━━━━━━━━\u001b[0m\u001b[37m\u001b[0m \u001b[1m0s\u001b[0m 4ms/step - accuracy: 0.6500 - loss: 0.6809 - val_accuracy: 0.6400 - val_loss: 0.7078 - learning_rate: 5.0000e-04\n",
      "Epoch 20/100\n",
      "\u001b[1m13/13\u001b[0m \u001b[32m━━━━━━━━━━━━━━━━━━━━\u001b[0m\u001b[37m\u001b[0m \u001b[1m0s\u001b[0m 4ms/step - accuracy: 0.6300 - loss: 0.6784 - val_accuracy: 0.6400 - val_loss: 0.7183 - learning_rate: 5.0000e-04\n",
      "Epoch 21/100\n",
      "\u001b[1m13/13\u001b[0m \u001b[32m━━━━━━━━━━━━━━━━━━━━\u001b[0m\u001b[37m\u001b[0m \u001b[1m0s\u001b[0m 4ms/step - accuracy: 0.6400 - loss: 0.6860 - val_accuracy: 0.6400 - val_loss: 0.6966 - learning_rate: 5.0000e-04\n",
      "Epoch 22/100\n",
      "\u001b[1m13/13\u001b[0m \u001b[32m━━━━━━━━━━━━━━━━━━━━\u001b[0m\u001b[37m\u001b[0m \u001b[1m0s\u001b[0m 3ms/step - accuracy: 0.6300 - loss: 0.6758 - val_accuracy: 0.6400 - val_loss: 0.7090 - learning_rate: 5.0000e-04\n",
      "Epoch 23/100\n",
      "\u001b[1m13/13\u001b[0m \u001b[32m━━━━━━━━━━━━━━━━━━━━\u001b[0m\u001b[37m\u001b[0m \u001b[1m0s\u001b[0m 3ms/step - accuracy: 0.6300 - loss: 0.6806 - val_accuracy: 0.6400 - val_loss: 0.7176 - learning_rate: 5.0000e-04\n",
      "Epoch 24/100\n",
      "\u001b[1m13/13\u001b[0m \u001b[32m━━━━━━━━━━━━━━━━━━━━\u001b[0m\u001b[37m\u001b[0m \u001b[1m0s\u001b[0m 3ms/step - accuracy: 0.6300 - loss: 0.6761 - val_accuracy: 0.6400 - val_loss: 0.6954 - learning_rate: 5.0000e-04\n",
      "Epoch 25/100\n",
      "\u001b[1m13/13\u001b[0m \u001b[32m━━━━━━━━━━━━━━━━━━━━\u001b[0m\u001b[37m\u001b[0m \u001b[1m0s\u001b[0m 3ms/step - accuracy: 0.6500 - loss: 0.6673 - val_accuracy: 0.6400 - val_loss: 0.6978 - learning_rate: 5.0000e-04\n",
      "Epoch 26/100\n",
      "\u001b[1m13/13\u001b[0m \u001b[32m━━━━━━━━━━━━━━━━━━━━\u001b[0m\u001b[37m\u001b[0m \u001b[1m0s\u001b[0m 3ms/step - accuracy: 0.6400 - loss: 0.6692 - val_accuracy: 0.6400 - val_loss: 0.7100 - learning_rate: 5.0000e-04\n",
      "Epoch 27/100\n",
      "\u001b[1m 1/13\u001b[0m \u001b[32m━\u001b[0m\u001b[37m━━━━━━━━━━━━━━━━━━━\u001b[0m \u001b[1m0s\u001b[0m 6ms/step - accuracy: 0.5000 - loss: 0.7501\n",
      "Epoch 27: ReduceLROnPlateau reducing learning rate to 0.0002500000118743628.\n",
      "\u001b[1m13/13\u001b[0m \u001b[32m━━━━━━━━━━━━━━━━━━━━\u001b[0m\u001b[37m\u001b[0m \u001b[1m0s\u001b[0m 3ms/step - accuracy: 0.6500 - loss: 0.6675 - val_accuracy: 0.6400 - val_loss: 0.7008 - learning_rate: 5.0000e-04\n",
      "Epoch 28/100\n",
      "\u001b[1m13/13\u001b[0m \u001b[32m━━━━━━━━━━━━━━━━━━━━\u001b[0m\u001b[37m\u001b[0m \u001b[1m0s\u001b[0m 3ms/step - accuracy: 0.6500 - loss: 0.6739 - val_accuracy: 0.6400 - val_loss: 0.6935 - learning_rate: 2.5000e-04\n",
      "Epoch 29/100\n",
      "\u001b[1m13/13\u001b[0m \u001b[32m━━━━━━━━━━━━━━━━━━━━\u001b[0m\u001b[37m\u001b[0m \u001b[1m0s\u001b[0m 3ms/step - accuracy: 0.6400 - loss: 0.6618 - val_accuracy: 0.6400 - val_loss: 0.6956 - learning_rate: 2.5000e-04\n",
      "Epoch 30/100\n",
      "\u001b[1m13/13\u001b[0m \u001b[32m━━━━━━━━━━━━━━━━━━━━\u001b[0m\u001b[37m\u001b[0m \u001b[1m0s\u001b[0m 3ms/step - accuracy: 0.6400 - loss: 0.6612 - val_accuracy: 0.6400 - val_loss: 0.6976 - learning_rate: 2.5000e-04\n",
      "Epoch 31/100\n",
      "\u001b[1m 1/13\u001b[0m \u001b[32m━\u001b[0m\u001b[37m━━━━━━━━━━━━━━━━━━━\u001b[0m \u001b[1m0s\u001b[0m 7ms/step - accuracy: 0.6250 - loss: 0.6343\n",
      "Epoch 31: ReduceLROnPlateau reducing learning rate to 0.0001250000059371814.\n",
      "\u001b[1m13/13\u001b[0m \u001b[32m━━━━━━━━━━━━━━━━━━━━\u001b[0m\u001b[37m\u001b[0m \u001b[1m0s\u001b[0m 3ms/step - accuracy: 0.6400 - loss: 0.6569 - val_accuracy: 0.6400 - val_loss: 0.6985 - learning_rate: 2.5000e-04\n",
      "Epoch 32/100\n",
      "\u001b[1m13/13\u001b[0m \u001b[32m━━━━━━━━━━━━━━━━━━━━\u001b[0m\u001b[37m\u001b[0m \u001b[1m0s\u001b[0m 3ms/step - accuracy: 0.6800 - loss: 0.6645 - val_accuracy: 0.6400 - val_loss: 0.7042 - learning_rate: 1.2500e-04\n",
      "Epoch 33/100\n",
      "\u001b[1m13/13\u001b[0m \u001b[32m━━━━━━━━━━━━━━━━━━━━\u001b[0m\u001b[37m\u001b[0m \u001b[1m0s\u001b[0m 3ms/step - accuracy: 0.6600 - loss: 0.6674 - val_accuracy: 0.6400 - val_loss: 0.7069 - learning_rate: 1.2500e-04\n"
     ]
    }
   ],
   "source": [
    "from tensorflow.keras.callbacks import EarlyStopping, ReduceLROnPlateau\n",
    "\n",
    "# Define callbacks\n",
    "early_stop = EarlyStopping(\n",
    "    monitor='val_loss',\n",
    "    patience=5,\n",
    "    restore_best_weights=True\n",
    ")\n",
    "\n",
    "reduce_lr = ReduceLROnPlateau(\n",
    "    monitor='val_loss',\n",
    "    factor=0.5,\n",
    "    patience=3,\n",
    "    min_lr=1e-6,\n",
    "    verbose=1\n",
    ")\n",
    "\n",
    "# Train model\n",
    "history = model.fit(\n",
    "    X_train, y_train,\n",
    "    epochs=100,\n",
    "    batch_size=8,\n",
    "    validation_data=(X_test, y_test),\n",
    "    callbacks=[early_stop, reduce_lr],\n",
    "    verbose=1\n",
    ")\n"
   ]
  },
  {
   "cell_type": "markdown",
   "id": "28f2c016",
   "metadata": {},
   "source": [
    "# Plot Training History"
   ]
  },
  {
   "cell_type": "code",
   "execution_count": 111,
   "id": "00484e7c",
   "metadata": {},
   "outputs": [
    {
     "data": {
      "image/png": "[encoded data removed]",
      "text/plain": [
       "<Figure size 640x480 with 1 Axes>"
      ]
     },
     "metadata": {},
     "output_type": "display_data"
    }
   ],
   "source": [
    "import matplotlib.pyplot as plt\n",
    "\n",
    "plt.plot(history.history['accuracy'], label='Train Acc')\n",
    "plt.plot(history.history['val_accuracy'], label='Val Acc')\n",
    "plt.title('Training vs Validation Accuracy')\n",
    "plt.legend()\n",
    "plt.grid(True)\n",
    "plt.show()\n"
   ]
  },
  {
   "cell_type": "markdown",
   "id": "48f176f9",
   "metadata": {},
   "source": [
    "# Evaluate Model"
   ]
  },
  {
   "cell_type": "code",
   "execution_count": 112,
   "id": "b90da3db",
   "metadata": {},
   "outputs": [
    {
     "name": "stdout",
     "output_type": "stream",
     "text": [
      "Model Performance:\n",
      "Train accuracy: 0.6500\n",
      "Test accuracy:  0.6400\n",
      "Validation Gap: 0.0100\n"
     ]
    }
   ],
   "source": [
    "# Evaluate on train set\n",
    "train_loss, train_acc = model.evaluate(X_train, y_train, verbose=0)\n",
    "\n",
    "# Evaluate on test set\n",
    "test_loss, test_acc = model.evaluate(X_test, y_test, verbose=0)\n",
    "\n",
    "# Calculate validation gap\n",
    "val_gap = abs(train_acc - test_acc)\n",
    "\n",
    "# Print results\n",
    "print(\"Model Performance:\")\n",
    "print(f\"Train accuracy: {train_acc:.4f}\")\n",
    "print(f\"Test accuracy:  {test_acc:.4f}\")\n",
    "print(f\"Validation Gap: {val_gap:.4f}\")"
   ]
  },
  {
   "cell_type": "markdown",
   "id": "5ae5c3fd",
   "metadata": {},
   "source": [
    "# Predict Next Day Direction"
   ]
  },
  {
   "cell_type": "code",
   "execution_count": 113,
   "id": "ee500f2f",
   "metadata": {},
   "outputs": [
    {
     "name": "stdout",
     "output_type": "stream",
     "text": [
      "\u001b[1m1/1\u001b[0m \u001b[32m━━━━━━━━━━━━━━━━━━━━\u001b[0m\u001b[37m\u001b[0m \u001b[1m0s\u001b[0m 107ms/step\n",
      "Prediction for tomorrow:\n",
      "Probability of price increase: 61.39%\n",
      "Predicted direction: UP\n"
     ]
    }
   ],
   "source": [
    "# Get the last 10 weeks of data (normalized)\n",
    "last_sequence = df[-10:].copy()\n",
    "\n",
    "# Select and scale the same features used during training\n",
    "features = ['close', 'SMA5', 'SMA20', 'SMA50', 'MACD', 'MACD_Signal', 'RSI']\n",
    "last_scaled = scaler.transform(last_sequence[features])\n",
    "\n",
    "# Reshape for LSTM: (1 sample, 10 timesteps, 7 features)\n",
    "X_input = np.expand_dims(last_scaled, axis=0)\n",
    "\n",
    "# Predict probability\n",
    "prob = model.predict(X_input)[0][0]\n",
    "direction = \"UP\" if prob >= 0.5 else \"DOWN\"\n",
    "\n",
    "# Display result\n",
    "print(\"Prediction for tomorrow:\")\n",
    "print(f\"Probability of price increase: {prob * 100:.2f}%\")\n",
    "print(f\"Predicted direction: {direction}\")"
   ]
  }
 ],
 "metadata": {
  "kernelspec": {
   "display_name": "venv (3.13.3)",
   "language": "python",
   "name": "python3"
  },
  "language_info": {
   "codemirror_mode": {
    "name": "ipython",
    "version": 3
   },
   "file_extension": ".py",
   "mimetype": "text/x-python",
   "name": "python",
   "nbconvert_exporter": "python",
   "pygments_lexer": "ipython3",
   "version": "3.13.3"
  }
 },
 "nbformat": 4,
 "nbformat_minor": 5
}
